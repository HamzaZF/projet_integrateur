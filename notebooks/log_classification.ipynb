{
 "cells": [
  {
   "cell_type": "code",
   "execution_count": 1,
   "metadata": {},
   "outputs": [],
   "source": [
    "import numpy as np\n",
    "import pandas as pd\n",
    "import sklearn as sk\n",
    "from sklearn.metrics import accuracy_score\n",
    "from scipy.stats import kendalltau"
   ]
  },
  {
   "attachments": {},
   "cell_type": "markdown",
   "metadata": {},
   "source": [
    "# Importation des datasets"
   ]
  },
  {
   "cell_type": "code",
   "execution_count": 2,
   "metadata": {},
   "outputs": [],
   "source": [
    "filename_train = \"../datasets/dataset_apache_train.csv\"\n",
    "filename_test = \"../datasets/dataset_apache_test.csv\""
   ]
  },
  {
   "cell_type": "code",
   "execution_count": 3,
   "metadata": {},
   "outputs": [],
   "source": [
    "csv_test = pd.read_csv(filename_test)\n",
    "csv_train = pd.read_csv(filename_train)"
   ]
  },
  {
   "cell_type": "code",
   "execution_count": 4,
   "metadata": {},
   "outputs": [
    {
     "data": {
      "text/html": [
       "<div>\n",
       "<style scoped>\n",
       "    .dataframe tbody tr th:only-of-type {\n",
       "        vertical-align: middle;\n",
       "    }\n",
       "\n",
       "    .dataframe tbody tr th {\n",
       "        vertical-align: top;\n",
       "    }\n",
       "\n",
       "    .dataframe thead th {\n",
       "        text-align: right;\n",
       "    }\n",
       "</style>\n",
       "<table border=\"1\" class=\"dataframe\">\n",
       "  <thead>\n",
       "    <tr style=\"text-align: right;\">\n",
       "      <th></th>\n",
       "      <th>ip</th>\n",
       "      <th>datetime</th>\n",
       "      <th>gmt</th>\n",
       "      <th>request</th>\n",
       "      <th>status</th>\n",
       "      <th>size</th>\n",
       "      <th>referer</th>\n",
       "      <th>browser</th>\n",
       "      <th>country</th>\n",
       "      <th>detected</th>\n",
       "    </tr>\n",
       "  </thead>\n",
       "  <tbody>\n",
       "    <tr>\n",
       "      <th>0</th>\n",
       "      <td>114.125.221.132</td>\n",
       "      <td>01-Jul 2019 10:54:15</td>\n",
       "      <td>+0700]</td>\n",
       "      <td>GET /bkd_baru/assets/images/scan_sertifikat/D0...</td>\n",
       "      <td>200.0</td>\n",
       "      <td>12133</td>\n",
       "      <td>http://universitas.com/bkd_baru/assets/images/...</td>\n",
       "      <td>Mozilla/5.0 (Linux; Android 5.1.1; SM-J111F Bu...</td>\n",
       "      <td>Indonesia</td>\n",
       "      <td>BAHAYA</td>\n",
       "    </tr>\n",
       "    <tr>\n",
       "      <th>1</th>\n",
       "      <td>114.125.221.132</td>\n",
       "      <td>01-Jul 2019 10:54:23</td>\n",
       "      <td>+0700]</td>\n",
       "      <td>GET /bkd_baru/assets/images/scan_sertifikat/D0...</td>\n",
       "      <td>200.0</td>\n",
       "      <td>15491</td>\n",
       "      <td>http://universitas.com/bkd_baru/assets/images/...</td>\n",
       "      <td>Mozilla/5.0 (Linux; Android 5.1.1; SM-J111F Bu...</td>\n",
       "      <td>Indonesia</td>\n",
       "      <td>BAHAYA</td>\n",
       "    </tr>\n",
       "    <tr>\n",
       "      <th>2</th>\n",
       "      <td>114.125.221.132</td>\n",
       "      <td>01-Jul 2019 10:54:42</td>\n",
       "      <td>+0700]</td>\n",
       "      <td>POST /bkd_baru/assets/images/scan_sertifikat/D...</td>\n",
       "      <td>200.0</td>\n",
       "      <td>16305</td>\n",
       "      <td>http://universitas.com/bkd_baru/assets/images/...</td>\n",
       "      <td>Mozilla/5.0 (Linux; Android 5.1.1; SM-J111F Bu...</td>\n",
       "      <td>Indonesia</td>\n",
       "      <td>BAHAYA</td>\n",
       "    </tr>\n",
       "    <tr>\n",
       "      <th>3</th>\n",
       "      <td>114.125.221.132</td>\n",
       "      <td>01-Jul 2019 10:55:08</td>\n",
       "      <td>+0700]</td>\n",
       "      <td>GET /bkd_baru/uwubahon.php HTTP/1.1</td>\n",
       "      <td>404.0</td>\n",
       "      <td>1130</td>\n",
       "      <td>-</td>\n",
       "      <td>Mozilla/5.0 (Linux; Android 5.1.1; SM-J111F Bu...</td>\n",
       "      <td>Indonesia</td>\n",
       "      <td>BAHAYA</td>\n",
       "    </tr>\n",
       "    <tr>\n",
       "      <th>4</th>\n",
       "      <td>114.125.221.132</td>\n",
       "      <td>01-Jul 2019 10:55:28</td>\n",
       "      <td>+0700]</td>\n",
       "      <td>GET /bkd_baru/awubahon.php HTTP/1.1</td>\n",
       "      <td>200.0</td>\n",
       "      <td>1735</td>\n",
       "      <td>-</td>\n",
       "      <td>Mozilla/5.0 (Linux; Android 5.1.1; SM-J111F Bu...</td>\n",
       "      <td>Indonesia</td>\n",
       "      <td>BAHAYA</td>\n",
       "    </tr>\n",
       "  </tbody>\n",
       "</table>\n",
       "</div>"
      ],
      "text/plain": [
       "                ip              datetime     gmt   \n",
       "0  114.125.221.132  01-Jul 2019 10:54:15  +0700]  \\\n",
       "1  114.125.221.132  01-Jul 2019 10:54:23  +0700]   \n",
       "2  114.125.221.132  01-Jul 2019 10:54:42  +0700]   \n",
       "3  114.125.221.132  01-Jul 2019 10:55:08  +0700]   \n",
       "4  114.125.221.132  01-Jul 2019 10:55:28  +0700]   \n",
       "\n",
       "                                             request  status   size   \n",
       "0  GET /bkd_baru/assets/images/scan_sertifikat/D0...   200.0  12133  \\\n",
       "1  GET /bkd_baru/assets/images/scan_sertifikat/D0...   200.0  15491   \n",
       "2  POST /bkd_baru/assets/images/scan_sertifikat/D...   200.0  16305   \n",
       "3                GET /bkd_baru/uwubahon.php HTTP/1.1   404.0   1130   \n",
       "4                GET /bkd_baru/awubahon.php HTTP/1.1   200.0   1735   \n",
       "\n",
       "                                             referer   \n",
       "0  http://universitas.com/bkd_baru/assets/images/...  \\\n",
       "1  http://universitas.com/bkd_baru/assets/images/...   \n",
       "2  http://universitas.com/bkd_baru/assets/images/...   \n",
       "3                                                  -   \n",
       "4                                                  -   \n",
       "\n",
       "                                             browser    country detected  \n",
       "0  Mozilla/5.0 (Linux; Android 5.1.1; SM-J111F Bu...  Indonesia   BAHAYA  \n",
       "1  Mozilla/5.0 (Linux; Android 5.1.1; SM-J111F Bu...  Indonesia   BAHAYA  \n",
       "2  Mozilla/5.0 (Linux; Android 5.1.1; SM-J111F Bu...  Indonesia   BAHAYA  \n",
       "3  Mozilla/5.0 (Linux; Android 5.1.1; SM-J111F Bu...  Indonesia   BAHAYA  \n",
       "4  Mozilla/5.0 (Linux; Android 5.1.1; SM-J111F Bu...  Indonesia   BAHAYA  "
      ]
     },
     "execution_count": 4,
     "metadata": {},
     "output_type": "execute_result"
    }
   ],
   "source": [
    "csv_train.head()"
   ]
  },
  {
   "cell_type": "code",
   "execution_count": 5,
   "metadata": {},
   "outputs": [
    {
     "data": {
      "text/html": [
       "<div>\n",
       "<style scoped>\n",
       "    .dataframe tbody tr th:only-of-type {\n",
       "        vertical-align: middle;\n",
       "    }\n",
       "\n",
       "    .dataframe tbody tr th {\n",
       "        vertical-align: top;\n",
       "    }\n",
       "\n",
       "    .dataframe thead th {\n",
       "        text-align: right;\n",
       "    }\n",
       "</style>\n",
       "<table border=\"1\" class=\"dataframe\">\n",
       "  <thead>\n",
       "    <tr style=\"text-align: right;\">\n",
       "      <th></th>\n",
       "      <th>IP Address</th>\n",
       "      <th>Date</th>\n",
       "      <th>Time</th>\n",
       "      <th>Request</th>\n",
       "      <th>Status</th>\n",
       "      <th>Size</th>\n",
       "      <th>Referer</th>\n",
       "      <th>User Agent</th>\n",
       "      <th>Lokasi</th>\n",
       "      <th>Status.1</th>\n",
       "    </tr>\n",
       "  </thead>\n",
       "  <tbody>\n",
       "    <tr>\n",
       "      <th>0</th>\n",
       "      <td>36.90.2.19</td>\n",
       "      <td>[23/Jul/2019:09:30:17</td>\n",
       "      <td>+0700]</td>\n",
       "      <td>GET /bkd_baru/ HTTP/1.1</td>\n",
       "      <td>200</td>\n",
       "      <td>5198</td>\n",
       "      <td>http://sc.syekhnurjati.ac.id/bkd/</td>\n",
       "      <td>Mozilla/5.0 (Windows NT 6.1) AppleWebKit/537.3...</td>\n",
       "      <td>Indonesia</td>\n",
       "      <td>NaN</td>\n",
       "    </tr>\n",
       "    <tr>\n",
       "      <th>1</th>\n",
       "      <td>36.90.2.19</td>\n",
       "      <td>[23/Jul/2019:09:30:27</td>\n",
       "      <td>+0700]</td>\n",
       "      <td>GET /bkd_baru/home HTTP/1.1</td>\n",
       "      <td>200</td>\n",
       "      <td>18814</td>\n",
       "      <td>http://lpm.syekhnurjati.ac.id/bkd_baru/</td>\n",
       "      <td>Mozilla/5.0 (Windows NT 6.1) AppleWebKit/537.3...</td>\n",
       "      <td>Indonesia</td>\n",
       "      <td>NaN</td>\n",
       "    </tr>\n",
       "    <tr>\n",
       "      <th>2</th>\n",
       "      <td>36.90.2.19</td>\n",
       "      <td>[23/Jul/2019:09:30:28</td>\n",
       "      <td>+0700]</td>\n",
       "      <td>GET /bkd_baru/assets/avatars/icon-user.png HTT...</td>\n",
       "      <td>200</td>\n",
       "      <td>1483</td>\n",
       "      <td>http://lpm.syekhnurjati.ac.id/bkd_baru/home</td>\n",
       "      <td>Mozilla/5.0 (Windows NT 6.1) AppleWebKit/537.3...</td>\n",
       "      <td>Indonesia</td>\n",
       "      <td>NaN</td>\n",
       "    </tr>\n",
       "    <tr>\n",
       "      <th>3</th>\n",
       "      <td>36.90.2.19</td>\n",
       "      <td>[23/Jul/2019:09:30:28</td>\n",
       "      <td>+0700]</td>\n",
       "      <td>GET /bkd_baru/assets/images/logo/31-05-2019_LO...</td>\n",
       "      <td>200</td>\n",
       "      <td>283099</td>\n",
       "      <td>http://lpm.syekhnurjati.ac.id/bkd_baru/home</td>\n",
       "      <td>Mozilla/5.0 (Windows NT 6.1) AppleWebKit/537.3...</td>\n",
       "      <td>Indonesia</td>\n",
       "      <td>NaN</td>\n",
       "    </tr>\n",
       "    <tr>\n",
       "      <th>4</th>\n",
       "      <td>36.90.2.19</td>\n",
       "      <td>[23/Jul/2019:09:30:45</td>\n",
       "      <td>+0700]</td>\n",
       "      <td>GET /bkd_baru/bidang_pendidikan HTTP/1.1</td>\n",
       "      <td>200</td>\n",
       "      <td>33678</td>\n",
       "      <td>http://lpm.syekhnurjati.ac.id/bkd_baru/home</td>\n",
       "      <td>Mozilla/5.0 (Windows NT 6.1) AppleWebKit/537.3...</td>\n",
       "      <td>Indonesia</td>\n",
       "      <td>NaN</td>\n",
       "    </tr>\n",
       "  </tbody>\n",
       "</table>\n",
       "</div>"
      ],
      "text/plain": [
       "   IP Address                   Date    Time   \n",
       "0  36.90.2.19  [23/Jul/2019:09:30:17  +0700]  \\\n",
       "1  36.90.2.19  [23/Jul/2019:09:30:27  +0700]   \n",
       "2  36.90.2.19  [23/Jul/2019:09:30:28  +0700]   \n",
       "3  36.90.2.19  [23/Jul/2019:09:30:28  +0700]   \n",
       "4  36.90.2.19  [23/Jul/2019:09:30:45  +0700]   \n",
       "\n",
       "                                             Request  Status    Size   \n",
       "0                            GET /bkd_baru/ HTTP/1.1     200    5198  \\\n",
       "1                        GET /bkd_baru/home HTTP/1.1     200   18814   \n",
       "2  GET /bkd_baru/assets/avatars/icon-user.png HTT...     200    1483   \n",
       "3  GET /bkd_baru/assets/images/logo/31-05-2019_LO...     200  283099   \n",
       "4           GET /bkd_baru/bidang_pendidikan HTTP/1.1     200   33678   \n",
       "\n",
       "                                       Referer   \n",
       "0            http://sc.syekhnurjati.ac.id/bkd/  \\\n",
       "1      http://lpm.syekhnurjati.ac.id/bkd_baru/   \n",
       "2  http://lpm.syekhnurjati.ac.id/bkd_baru/home   \n",
       "3  http://lpm.syekhnurjati.ac.id/bkd_baru/home   \n",
       "4  http://lpm.syekhnurjati.ac.id/bkd_baru/home   \n",
       "\n",
       "                                          User Agent     Lokasi  Status.1  \n",
       "0  Mozilla/5.0 (Windows NT 6.1) AppleWebKit/537.3...  Indonesia       NaN  \n",
       "1  Mozilla/5.0 (Windows NT 6.1) AppleWebKit/537.3...  Indonesia       NaN  \n",
       "2  Mozilla/5.0 (Windows NT 6.1) AppleWebKit/537.3...  Indonesia       NaN  \n",
       "3  Mozilla/5.0 (Windows NT 6.1) AppleWebKit/537.3...  Indonesia       NaN  \n",
       "4  Mozilla/5.0 (Windows NT 6.1) AppleWebKit/537.3...  Indonesia       NaN  "
      ]
     },
     "execution_count": 5,
     "metadata": {},
     "output_type": "execute_result"
    }
   ],
   "source": [
    "csv_test.head()"
   ]
  },
  {
   "cell_type": "code",
   "execution_count": 6,
   "metadata": {},
   "outputs": [],
   "source": [
    "csv_test.columns = [\"ip\", \"datetime\", \"gmt\", \"request\", \"status\", \"size\", \"referer\", \"browser\", \"country\", \"detected\"]"
   ]
  },
  {
   "cell_type": "code",
   "execution_count": 7,
   "metadata": {},
   "outputs": [
    {
     "data": {
      "text/html": [
       "<div>\n",
       "<style scoped>\n",
       "    .dataframe tbody tr th:only-of-type {\n",
       "        vertical-align: middle;\n",
       "    }\n",
       "\n",
       "    .dataframe tbody tr th {\n",
       "        vertical-align: top;\n",
       "    }\n",
       "\n",
       "    .dataframe thead th {\n",
       "        text-align: right;\n",
       "    }\n",
       "</style>\n",
       "<table border=\"1\" class=\"dataframe\">\n",
       "  <thead>\n",
       "    <tr style=\"text-align: right;\">\n",
       "      <th></th>\n",
       "      <th>ip</th>\n",
       "      <th>datetime</th>\n",
       "      <th>gmt</th>\n",
       "      <th>request</th>\n",
       "      <th>status</th>\n",
       "      <th>size</th>\n",
       "      <th>referer</th>\n",
       "      <th>browser</th>\n",
       "      <th>country</th>\n",
       "      <th>detected</th>\n",
       "    </tr>\n",
       "  </thead>\n",
       "  <tbody>\n",
       "    <tr>\n",
       "      <th>0</th>\n",
       "      <td>36.90.2.19</td>\n",
       "      <td>[23/Jul/2019:09:30:17</td>\n",
       "      <td>+0700]</td>\n",
       "      <td>GET /bkd_baru/ HTTP/1.1</td>\n",
       "      <td>200</td>\n",
       "      <td>5198</td>\n",
       "      <td>http://sc.syekhnurjati.ac.id/bkd/</td>\n",
       "      <td>Mozilla/5.0 (Windows NT 6.1) AppleWebKit/537.3...</td>\n",
       "      <td>Indonesia</td>\n",
       "      <td>NaN</td>\n",
       "    </tr>\n",
       "    <tr>\n",
       "      <th>1</th>\n",
       "      <td>36.90.2.19</td>\n",
       "      <td>[23/Jul/2019:09:30:27</td>\n",
       "      <td>+0700]</td>\n",
       "      <td>GET /bkd_baru/home HTTP/1.1</td>\n",
       "      <td>200</td>\n",
       "      <td>18814</td>\n",
       "      <td>http://lpm.syekhnurjati.ac.id/bkd_baru/</td>\n",
       "      <td>Mozilla/5.0 (Windows NT 6.1) AppleWebKit/537.3...</td>\n",
       "      <td>Indonesia</td>\n",
       "      <td>NaN</td>\n",
       "    </tr>\n",
       "    <tr>\n",
       "      <th>2</th>\n",
       "      <td>36.90.2.19</td>\n",
       "      <td>[23/Jul/2019:09:30:28</td>\n",
       "      <td>+0700]</td>\n",
       "      <td>GET /bkd_baru/assets/avatars/icon-user.png HTT...</td>\n",
       "      <td>200</td>\n",
       "      <td>1483</td>\n",
       "      <td>http://lpm.syekhnurjati.ac.id/bkd_baru/home</td>\n",
       "      <td>Mozilla/5.0 (Windows NT 6.1) AppleWebKit/537.3...</td>\n",
       "      <td>Indonesia</td>\n",
       "      <td>NaN</td>\n",
       "    </tr>\n",
       "    <tr>\n",
       "      <th>3</th>\n",
       "      <td>36.90.2.19</td>\n",
       "      <td>[23/Jul/2019:09:30:28</td>\n",
       "      <td>+0700]</td>\n",
       "      <td>GET /bkd_baru/assets/images/logo/31-05-2019_LO...</td>\n",
       "      <td>200</td>\n",
       "      <td>283099</td>\n",
       "      <td>http://lpm.syekhnurjati.ac.id/bkd_baru/home</td>\n",
       "      <td>Mozilla/5.0 (Windows NT 6.1) AppleWebKit/537.3...</td>\n",
       "      <td>Indonesia</td>\n",
       "      <td>NaN</td>\n",
       "    </tr>\n",
       "    <tr>\n",
       "      <th>4</th>\n",
       "      <td>36.90.2.19</td>\n",
       "      <td>[23/Jul/2019:09:30:45</td>\n",
       "      <td>+0700]</td>\n",
       "      <td>GET /bkd_baru/bidang_pendidikan HTTP/1.1</td>\n",
       "      <td>200</td>\n",
       "      <td>33678</td>\n",
       "      <td>http://lpm.syekhnurjati.ac.id/bkd_baru/home</td>\n",
       "      <td>Mozilla/5.0 (Windows NT 6.1) AppleWebKit/537.3...</td>\n",
       "      <td>Indonesia</td>\n",
       "      <td>NaN</td>\n",
       "    </tr>\n",
       "  </tbody>\n",
       "</table>\n",
       "</div>"
      ],
      "text/plain": [
       "           ip               datetime     gmt   \n",
       "0  36.90.2.19  [23/Jul/2019:09:30:17  +0700]  \\\n",
       "1  36.90.2.19  [23/Jul/2019:09:30:27  +0700]   \n",
       "2  36.90.2.19  [23/Jul/2019:09:30:28  +0700]   \n",
       "3  36.90.2.19  [23/Jul/2019:09:30:28  +0700]   \n",
       "4  36.90.2.19  [23/Jul/2019:09:30:45  +0700]   \n",
       "\n",
       "                                             request  status    size   \n",
       "0                            GET /bkd_baru/ HTTP/1.1     200    5198  \\\n",
       "1                        GET /bkd_baru/home HTTP/1.1     200   18814   \n",
       "2  GET /bkd_baru/assets/avatars/icon-user.png HTT...     200    1483   \n",
       "3  GET /bkd_baru/assets/images/logo/31-05-2019_LO...     200  283099   \n",
       "4           GET /bkd_baru/bidang_pendidikan HTTP/1.1     200   33678   \n",
       "\n",
       "                                       referer   \n",
       "0            http://sc.syekhnurjati.ac.id/bkd/  \\\n",
       "1      http://lpm.syekhnurjati.ac.id/bkd_baru/   \n",
       "2  http://lpm.syekhnurjati.ac.id/bkd_baru/home   \n",
       "3  http://lpm.syekhnurjati.ac.id/bkd_baru/home   \n",
       "4  http://lpm.syekhnurjati.ac.id/bkd_baru/home   \n",
       "\n",
       "                                             browser    country  detected  \n",
       "0  Mozilla/5.0 (Windows NT 6.1) AppleWebKit/537.3...  Indonesia       NaN  \n",
       "1  Mozilla/5.0 (Windows NT 6.1) AppleWebKit/537.3...  Indonesia       NaN  \n",
       "2  Mozilla/5.0 (Windows NT 6.1) AppleWebKit/537.3...  Indonesia       NaN  \n",
       "3  Mozilla/5.0 (Windows NT 6.1) AppleWebKit/537.3...  Indonesia       NaN  \n",
       "4  Mozilla/5.0 (Windows NT 6.1) AppleWebKit/537.3...  Indonesia       NaN  "
      ]
     },
     "execution_count": 7,
     "metadata": {},
     "output_type": "execute_result"
    }
   ],
   "source": [
    "csv_test.head()"
   ]
  },
  {
   "attachments": {},
   "cell_type": "markdown",
   "metadata": {},
   "source": [
    "## Split de la feature request"
   ]
  },
  {
   "cell_type": "code",
   "execution_count": 8,
   "metadata": {},
   "outputs": [
    {
     "data": {
      "text/html": [
       "<div>\n",
       "<style scoped>\n",
       "    .dataframe tbody tr th:only-of-type {\n",
       "        vertical-align: middle;\n",
       "    }\n",
       "\n",
       "    .dataframe tbody tr th {\n",
       "        vertical-align: top;\n",
       "    }\n",
       "\n",
       "    .dataframe thead th {\n",
       "        text-align: right;\n",
       "    }\n",
       "</style>\n",
       "<table border=\"1\" class=\"dataframe\">\n",
       "  <thead>\n",
       "    <tr style=\"text-align: right;\">\n",
       "      <th></th>\n",
       "      <th>ip</th>\n",
       "      <th>datetime</th>\n",
       "      <th>gmt</th>\n",
       "      <th>request</th>\n",
       "      <th>content</th>\n",
       "      <th>status</th>\n",
       "      <th>size</th>\n",
       "      <th>referer</th>\n",
       "      <th>browser</th>\n",
       "      <th>country</th>\n",
       "      <th>detected</th>\n",
       "    </tr>\n",
       "  </thead>\n",
       "  <tbody>\n",
       "    <tr>\n",
       "      <th>0</th>\n",
       "      <td>114.125.221.132</td>\n",
       "      <td>01-Jul 2019 10:54:15</td>\n",
       "      <td>+0700]</td>\n",
       "      <td>GET</td>\n",
       "      <td>/bkd_baru/assets/images/scan_sertifikat/D0001_...</td>\n",
       "      <td>200.0</td>\n",
       "      <td>12133</td>\n",
       "      <td>http://universitas.com/bkd_baru/assets/images/...</td>\n",
       "      <td>Mozilla/5.0 (Linux; Android 5.1.1; SM-J111F Bu...</td>\n",
       "      <td>Indonesia</td>\n",
       "      <td>BAHAYA</td>\n",
       "    </tr>\n",
       "    <tr>\n",
       "      <th>1</th>\n",
       "      <td>114.125.221.132</td>\n",
       "      <td>01-Jul 2019 10:54:23</td>\n",
       "      <td>+0700]</td>\n",
       "      <td>GET</td>\n",
       "      <td>/bkd_baru/assets/images/scan_sertifikat/D0001_...</td>\n",
       "      <td>200.0</td>\n",
       "      <td>15491</td>\n",
       "      <td>http://universitas.com/bkd_baru/assets/images/...</td>\n",
       "      <td>Mozilla/5.0 (Linux; Android 5.1.1; SM-J111F Bu...</td>\n",
       "      <td>Indonesia</td>\n",
       "      <td>BAHAYA</td>\n",
       "    </tr>\n",
       "    <tr>\n",
       "      <th>2</th>\n",
       "      <td>114.125.221.132</td>\n",
       "      <td>01-Jul 2019 10:54:42</td>\n",
       "      <td>+0700]</td>\n",
       "      <td>POST</td>\n",
       "      <td>/bkd_baru/assets/images/scan_sertifikat/D0001_...</td>\n",
       "      <td>200.0</td>\n",
       "      <td>16305</td>\n",
       "      <td>http://universitas.com/bkd_baru/assets/images/...</td>\n",
       "      <td>Mozilla/5.0 (Linux; Android 5.1.1; SM-J111F Bu...</td>\n",
       "      <td>Indonesia</td>\n",
       "      <td>BAHAYA</td>\n",
       "    </tr>\n",
       "    <tr>\n",
       "      <th>3</th>\n",
       "      <td>114.125.221.132</td>\n",
       "      <td>01-Jul 2019 10:55:08</td>\n",
       "      <td>+0700]</td>\n",
       "      <td>GET</td>\n",
       "      <td>/bkd_baru/uwubahon.php</td>\n",
       "      <td>404.0</td>\n",
       "      <td>1130</td>\n",
       "      <td>-</td>\n",
       "      <td>Mozilla/5.0 (Linux; Android 5.1.1; SM-J111F Bu...</td>\n",
       "      <td>Indonesia</td>\n",
       "      <td>BAHAYA</td>\n",
       "    </tr>\n",
       "    <tr>\n",
       "      <th>4</th>\n",
       "      <td>114.125.221.132</td>\n",
       "      <td>01-Jul 2019 10:55:28</td>\n",
       "      <td>+0700]</td>\n",
       "      <td>GET</td>\n",
       "      <td>/bkd_baru/awubahon.php</td>\n",
       "      <td>200.0</td>\n",
       "      <td>1735</td>\n",
       "      <td>-</td>\n",
       "      <td>Mozilla/5.0 (Linux; Android 5.1.1; SM-J111F Bu...</td>\n",
       "      <td>Indonesia</td>\n",
       "      <td>BAHAYA</td>\n",
       "    </tr>\n",
       "  </tbody>\n",
       "</table>\n",
       "</div>"
      ],
      "text/plain": [
       "                ip              datetime     gmt request   \n",
       "0  114.125.221.132  01-Jul 2019 10:54:15  +0700]     GET  \\\n",
       "1  114.125.221.132  01-Jul 2019 10:54:23  +0700]     GET   \n",
       "2  114.125.221.132  01-Jul 2019 10:54:42  +0700]    POST   \n",
       "3  114.125.221.132  01-Jul 2019 10:55:08  +0700]     GET   \n",
       "4  114.125.221.132  01-Jul 2019 10:55:28  +0700]     GET   \n",
       "\n",
       "                                             content  status   size   \n",
       "0  /bkd_baru/assets/images/scan_sertifikat/D0001_...   200.0  12133  \\\n",
       "1  /bkd_baru/assets/images/scan_sertifikat/D0001_...   200.0  15491   \n",
       "2  /bkd_baru/assets/images/scan_sertifikat/D0001_...   200.0  16305   \n",
       "3                             /bkd_baru/uwubahon.php   404.0   1130   \n",
       "4                             /bkd_baru/awubahon.php   200.0   1735   \n",
       "\n",
       "                                             referer   \n",
       "0  http://universitas.com/bkd_baru/assets/images/...  \\\n",
       "1  http://universitas.com/bkd_baru/assets/images/...   \n",
       "2  http://universitas.com/bkd_baru/assets/images/...   \n",
       "3                                                  -   \n",
       "4                                                  -   \n",
       "\n",
       "                                             browser    country detected  \n",
       "0  Mozilla/5.0 (Linux; Android 5.1.1; SM-J111F Bu...  Indonesia   BAHAYA  \n",
       "1  Mozilla/5.0 (Linux; Android 5.1.1; SM-J111F Bu...  Indonesia   BAHAYA  \n",
       "2  Mozilla/5.0 (Linux; Android 5.1.1; SM-J111F Bu...  Indonesia   BAHAYA  \n",
       "3  Mozilla/5.0 (Linux; Android 5.1.1; SM-J111F Bu...  Indonesia   BAHAYA  \n",
       "4  Mozilla/5.0 (Linux; Android 5.1.1; SM-J111F Bu...  Indonesia   BAHAYA  "
      ]
     },
     "execution_count": 8,
     "metadata": {},
     "output_type": "execute_result"
    }
   ],
   "source": [
    "csv_train_split_request = pd.DataFrame()\n",
    "\n",
    "csv_train_split_request[\"ip\"] = csv_train[\"ip\"]\n",
    "csv_train_split_request[\"datetime\"] = csv_train[\"datetime\"]\n",
    "csv_train_split_request[\"gmt\"] = csv_train[\"gmt\"]\n",
    "csv_train_split_request[\"request\"] = csv_train[\"request\"].str.split(\" \").str[0]\n",
    "csv_train_split_request[\"content\"] = csv_train[\"request\"].str.split(\" \").str[1]\n",
    "csv_train_split_request[\"status\"] = csv_train[\"status\"]\n",
    "csv_train_split_request[\"size\"] = csv_train[\"size\"]\n",
    "csv_train_split_request[\"referer\"] = csv_train[\"referer\"]\n",
    "csv_train_split_request[\"browser\"] = csv_train[\"browser\"]\n",
    "csv_train_split_request[\"country\"] = csv_train[\"country\"]\n",
    "csv_train_split_request[\"detected\"] = csv_train[\"detected\"]\n",
    "\n",
    "csv_train_split_request.head()"
   ]
  },
  {
   "cell_type": "code",
   "execution_count": 9,
   "metadata": {},
   "outputs": [
    {
     "data": {
      "text/html": [
       "<div>\n",
       "<style scoped>\n",
       "    .dataframe tbody tr th:only-of-type {\n",
       "        vertical-align: middle;\n",
       "    }\n",
       "\n",
       "    .dataframe tbody tr th {\n",
       "        vertical-align: top;\n",
       "    }\n",
       "\n",
       "    .dataframe thead th {\n",
       "        text-align: right;\n",
       "    }\n",
       "</style>\n",
       "<table border=\"1\" class=\"dataframe\">\n",
       "  <thead>\n",
       "    <tr style=\"text-align: right;\">\n",
       "      <th></th>\n",
       "      <th>ip</th>\n",
       "      <th>datetime</th>\n",
       "      <th>gmt</th>\n",
       "      <th>request</th>\n",
       "      <th>content</th>\n",
       "      <th>status</th>\n",
       "      <th>size</th>\n",
       "      <th>referer</th>\n",
       "      <th>browser</th>\n",
       "      <th>country</th>\n",
       "      <th>detected</th>\n",
       "    </tr>\n",
       "  </thead>\n",
       "  <tbody>\n",
       "    <tr>\n",
       "      <th>0</th>\n",
       "      <td>36.90.2.19</td>\n",
       "      <td>[23/Jul/2019:09:30:17</td>\n",
       "      <td>+0700]</td>\n",
       "      <td>GET</td>\n",
       "      <td>/bkd_baru/</td>\n",
       "      <td>200</td>\n",
       "      <td>5198</td>\n",
       "      <td>http://sc.syekhnurjati.ac.id/bkd/</td>\n",
       "      <td>Mozilla/5.0 (Windows NT 6.1) AppleWebKit/537.3...</td>\n",
       "      <td>Indonesia</td>\n",
       "      <td>NaN</td>\n",
       "    </tr>\n",
       "    <tr>\n",
       "      <th>1</th>\n",
       "      <td>36.90.2.19</td>\n",
       "      <td>[23/Jul/2019:09:30:27</td>\n",
       "      <td>+0700]</td>\n",
       "      <td>GET</td>\n",
       "      <td>/bkd_baru/home</td>\n",
       "      <td>200</td>\n",
       "      <td>18814</td>\n",
       "      <td>http://lpm.syekhnurjati.ac.id/bkd_baru/</td>\n",
       "      <td>Mozilla/5.0 (Windows NT 6.1) AppleWebKit/537.3...</td>\n",
       "      <td>Indonesia</td>\n",
       "      <td>NaN</td>\n",
       "    </tr>\n",
       "    <tr>\n",
       "      <th>2</th>\n",
       "      <td>36.90.2.19</td>\n",
       "      <td>[23/Jul/2019:09:30:28</td>\n",
       "      <td>+0700]</td>\n",
       "      <td>GET</td>\n",
       "      <td>/bkd_baru/assets/avatars/icon-user.png</td>\n",
       "      <td>200</td>\n",
       "      <td>1483</td>\n",
       "      <td>http://lpm.syekhnurjati.ac.id/bkd_baru/home</td>\n",
       "      <td>Mozilla/5.0 (Windows NT 6.1) AppleWebKit/537.3...</td>\n",
       "      <td>Indonesia</td>\n",
       "      <td>NaN</td>\n",
       "    </tr>\n",
       "    <tr>\n",
       "      <th>3</th>\n",
       "      <td>36.90.2.19</td>\n",
       "      <td>[23/Jul/2019:09:30:28</td>\n",
       "      <td>+0700]</td>\n",
       "      <td>GET</td>\n",
       "      <td>/bkd_baru/assets/images/logo/31-05-2019_LOGO_I...</td>\n",
       "      <td>200</td>\n",
       "      <td>283099</td>\n",
       "      <td>http://lpm.syekhnurjati.ac.id/bkd_baru/home</td>\n",
       "      <td>Mozilla/5.0 (Windows NT 6.1) AppleWebKit/537.3...</td>\n",
       "      <td>Indonesia</td>\n",
       "      <td>NaN</td>\n",
       "    </tr>\n",
       "    <tr>\n",
       "      <th>4</th>\n",
       "      <td>36.90.2.19</td>\n",
       "      <td>[23/Jul/2019:09:30:45</td>\n",
       "      <td>+0700]</td>\n",
       "      <td>GET</td>\n",
       "      <td>/bkd_baru/bidang_pendidikan</td>\n",
       "      <td>200</td>\n",
       "      <td>33678</td>\n",
       "      <td>http://lpm.syekhnurjati.ac.id/bkd_baru/home</td>\n",
       "      <td>Mozilla/5.0 (Windows NT 6.1) AppleWebKit/537.3...</td>\n",
       "      <td>Indonesia</td>\n",
       "      <td>NaN</td>\n",
       "    </tr>\n",
       "  </tbody>\n",
       "</table>\n",
       "</div>"
      ],
      "text/plain": [
       "           ip               datetime     gmt request   \n",
       "0  36.90.2.19  [23/Jul/2019:09:30:17  +0700]     GET  \\\n",
       "1  36.90.2.19  [23/Jul/2019:09:30:27  +0700]     GET   \n",
       "2  36.90.2.19  [23/Jul/2019:09:30:28  +0700]     GET   \n",
       "3  36.90.2.19  [23/Jul/2019:09:30:28  +0700]     GET   \n",
       "4  36.90.2.19  [23/Jul/2019:09:30:45  +0700]     GET   \n",
       "\n",
       "                                             content  status    size   \n",
       "0                                         /bkd_baru/     200    5198  \\\n",
       "1                                     /bkd_baru/home     200   18814   \n",
       "2             /bkd_baru/assets/avatars/icon-user.png     200    1483   \n",
       "3  /bkd_baru/assets/images/logo/31-05-2019_LOGO_I...     200  283099   \n",
       "4                        /bkd_baru/bidang_pendidikan     200   33678   \n",
       "\n",
       "                                       referer   \n",
       "0            http://sc.syekhnurjati.ac.id/bkd/  \\\n",
       "1      http://lpm.syekhnurjati.ac.id/bkd_baru/   \n",
       "2  http://lpm.syekhnurjati.ac.id/bkd_baru/home   \n",
       "3  http://lpm.syekhnurjati.ac.id/bkd_baru/home   \n",
       "4  http://lpm.syekhnurjati.ac.id/bkd_baru/home   \n",
       "\n",
       "                                             browser    country  detected  \n",
       "0  Mozilla/5.0 (Windows NT 6.1) AppleWebKit/537.3...  Indonesia       NaN  \n",
       "1  Mozilla/5.0 (Windows NT 6.1) AppleWebKit/537.3...  Indonesia       NaN  \n",
       "2  Mozilla/5.0 (Windows NT 6.1) AppleWebKit/537.3...  Indonesia       NaN  \n",
       "3  Mozilla/5.0 (Windows NT 6.1) AppleWebKit/537.3...  Indonesia       NaN  \n",
       "4  Mozilla/5.0 (Windows NT 6.1) AppleWebKit/537.3...  Indonesia       NaN  "
      ]
     },
     "execution_count": 9,
     "metadata": {},
     "output_type": "execute_result"
    }
   ],
   "source": [
    "csv_test_split_request = pd.DataFrame()\n",
    "\n",
    "csv_test_split_request[\"ip\"] = csv_test[\"ip\"]\n",
    "csv_test_split_request[\"datetime\"] = csv_test[\"datetime\"]\n",
    "csv_test_split_request[\"gmt\"] = csv_test[\"gmt\"]\n",
    "csv_test_split_request[\"request\"] = csv_test[\"request\"].str.split(\" \").str[0]\n",
    "csv_test_split_request[\"content\"] = csv_test[\"request\"].str.split(\" \").str[1]\n",
    "csv_test_split_request[\"status\"] = csv_test[\"status\"]\n",
    "csv_test_split_request[\"size\"] = csv_test[\"size\"]\n",
    "csv_test_split_request[\"referer\"] = csv_test[\"referer\"]\n",
    "csv_test_split_request[\"browser\"] = csv_test[\"browser\"]\n",
    "csv_test_split_request[\"country\"] = csv_test[\"country\"]\n",
    "csv_test_split_request[\"detected\"] = csv_test[\"detected\"]\n",
    "\n",
    "csv_test_split_request.head()"
   ]
  },
  {
   "attachments": {},
   "cell_type": "markdown",
   "metadata": {},
   "source": [
    "## Nettoyage"
   ]
  },
  {
   "cell_type": "code",
   "execution_count": 10,
   "metadata": {},
   "outputs": [],
   "source": [
    "# replace all NaN values with empty string\n",
    "\n",
    "csv_train_split_request = csv_train_split_request.fillna(\"\")\n",
    "csv_test_split_request = csv_test_split_request.fillna(\"\")"
   ]
  },
  {
   "attachments": {},
   "cell_type": "markdown",
   "metadata": {},
   "source": [
    "## Vectorisation"
   ]
  },
  {
   "cell_type": "code",
   "execution_count": 11,
   "metadata": {},
   "outputs": [
    {
     "data": {
      "text/html": [
       "<div>\n",
       "<style scoped>\n",
       "    .dataframe tbody tr th:only-of-type {\n",
       "        vertical-align: middle;\n",
       "    }\n",
       "\n",
       "    .dataframe tbody tr th {\n",
       "        vertical-align: top;\n",
       "    }\n",
       "\n",
       "    .dataframe thead th {\n",
       "        text-align: right;\n",
       "    }\n",
       "</style>\n",
       "<table border=\"1\" class=\"dataframe\">\n",
       "  <thead>\n",
       "    <tr style=\"text-align: right;\">\n",
       "      <th></th>\n",
       "      <th>ip</th>\n",
       "      <th>datetime</th>\n",
       "      <th>gmt</th>\n",
       "      <th>request</th>\n",
       "      <th>content</th>\n",
       "      <th>status</th>\n",
       "      <th>size</th>\n",
       "      <th>referer</th>\n",
       "      <th>browser</th>\n",
       "      <th>country</th>\n",
       "      <th>detected</th>\n",
       "    </tr>\n",
       "  </thead>\n",
       "  <tbody>\n",
       "    <tr>\n",
       "      <th>0</th>\n",
       "      <td>114.125.221.132</td>\n",
       "      <td>01-Jul 2019 10:54:15</td>\n",
       "      <td>+0700]</td>\n",
       "      <td>GET</td>\n",
       "      <td>/bkd_baru/assets/images/scan_sertifikat/D0001_...</td>\n",
       "      <td>200.0</td>\n",
       "      <td>12133</td>\n",
       "      <td>http://universitas.com/bkd_baru/assets/images/...</td>\n",
       "      <td>Mozilla/5.0 (Linux; Android 5.1.1; SM-J111F Bu...</td>\n",
       "      <td>Indonesia</td>\n",
       "      <td>1</td>\n",
       "    </tr>\n",
       "    <tr>\n",
       "      <th>1</th>\n",
       "      <td>114.125.221.132</td>\n",
       "      <td>01-Jul 2019 10:54:23</td>\n",
       "      <td>+0700]</td>\n",
       "      <td>GET</td>\n",
       "      <td>/bkd_baru/assets/images/scan_sertifikat/D0001_...</td>\n",
       "      <td>200.0</td>\n",
       "      <td>15491</td>\n",
       "      <td>http://universitas.com/bkd_baru/assets/images/...</td>\n",
       "      <td>Mozilla/5.0 (Linux; Android 5.1.1; SM-J111F Bu...</td>\n",
       "      <td>Indonesia</td>\n",
       "      <td>1</td>\n",
       "    </tr>\n",
       "    <tr>\n",
       "      <th>2</th>\n",
       "      <td>114.125.221.132</td>\n",
       "      <td>01-Jul 2019 10:54:42</td>\n",
       "      <td>+0700]</td>\n",
       "      <td>POST</td>\n",
       "      <td>/bkd_baru/assets/images/scan_sertifikat/D0001_...</td>\n",
       "      <td>200.0</td>\n",
       "      <td>16305</td>\n",
       "      <td>http://universitas.com/bkd_baru/assets/images/...</td>\n",
       "      <td>Mozilla/5.0 (Linux; Android 5.1.1; SM-J111F Bu...</td>\n",
       "      <td>Indonesia</td>\n",
       "      <td>1</td>\n",
       "    </tr>\n",
       "    <tr>\n",
       "      <th>3</th>\n",
       "      <td>114.125.221.132</td>\n",
       "      <td>01-Jul 2019 10:55:08</td>\n",
       "      <td>+0700]</td>\n",
       "      <td>GET</td>\n",
       "      <td>/bkd_baru/uwubahon.php</td>\n",
       "      <td>404.0</td>\n",
       "      <td>1130</td>\n",
       "      <td>-</td>\n",
       "      <td>Mozilla/5.0 (Linux; Android 5.1.1; SM-J111F Bu...</td>\n",
       "      <td>Indonesia</td>\n",
       "      <td>1</td>\n",
       "    </tr>\n",
       "    <tr>\n",
       "      <th>4</th>\n",
       "      <td>114.125.221.132</td>\n",
       "      <td>01-Jul 2019 10:55:28</td>\n",
       "      <td>+0700]</td>\n",
       "      <td>GET</td>\n",
       "      <td>/bkd_baru/awubahon.php</td>\n",
       "      <td>200.0</td>\n",
       "      <td>1735</td>\n",
       "      <td>-</td>\n",
       "      <td>Mozilla/5.0 (Linux; Android 5.1.1; SM-J111F Bu...</td>\n",
       "      <td>Indonesia</td>\n",
       "      <td>1</td>\n",
       "    </tr>\n",
       "  </tbody>\n",
       "</table>\n",
       "</div>"
      ],
      "text/plain": [
       "                ip              datetime     gmt request   \n",
       "0  114.125.221.132  01-Jul 2019 10:54:15  +0700]     GET  \\\n",
       "1  114.125.221.132  01-Jul 2019 10:54:23  +0700]     GET   \n",
       "2  114.125.221.132  01-Jul 2019 10:54:42  +0700]    POST   \n",
       "3  114.125.221.132  01-Jul 2019 10:55:08  +0700]     GET   \n",
       "4  114.125.221.132  01-Jul 2019 10:55:28  +0700]     GET   \n",
       "\n",
       "                                             content status   size   \n",
       "0  /bkd_baru/assets/images/scan_sertifikat/D0001_...  200.0  12133  \\\n",
       "1  /bkd_baru/assets/images/scan_sertifikat/D0001_...  200.0  15491   \n",
       "2  /bkd_baru/assets/images/scan_sertifikat/D0001_...  200.0  16305   \n",
       "3                             /bkd_baru/uwubahon.php  404.0   1130   \n",
       "4                             /bkd_baru/awubahon.php  200.0   1735   \n",
       "\n",
       "                                             referer   \n",
       "0  http://universitas.com/bkd_baru/assets/images/...  \\\n",
       "1  http://universitas.com/bkd_baru/assets/images/...   \n",
       "2  http://universitas.com/bkd_baru/assets/images/...   \n",
       "3                                                  -   \n",
       "4                                                  -   \n",
       "\n",
       "                                             browser    country  detected  \n",
       "0  Mozilla/5.0 (Linux; Android 5.1.1; SM-J111F Bu...  Indonesia         1  \n",
       "1  Mozilla/5.0 (Linux; Android 5.1.1; SM-J111F Bu...  Indonesia         1  \n",
       "2  Mozilla/5.0 (Linux; Android 5.1.1; SM-J111F Bu...  Indonesia         1  \n",
       "3  Mozilla/5.0 (Linux; Android 5.1.1; SM-J111F Bu...  Indonesia         1  \n",
       "4  Mozilla/5.0 (Linux; Android 5.1.1; SM-J111F Bu...  Indonesia         1  "
      ]
     },
     "execution_count": 11,
     "metadata": {},
     "output_type": "execute_result"
    }
   ],
   "source": [
    "from sklearn.preprocessing import LabelEncoder\n",
    "\n",
    "csv_train_labels_encoded = csv_train_split_request.copy()\n",
    "\n",
    "le = LabelEncoder()\n",
    "le.fit([\"BAHAYA\", \"AMAN\", \"DICURIGAI\"])\n",
    "csv_train_labels_encoded[\"detected\"] = le.transform(csv_train_split_request[\"detected\"])\n",
    "\n",
    "csv_train_labels_encoded.head()"
   ]
  },
  {
   "cell_type": "code",
   "execution_count": 12,
   "metadata": {},
   "outputs": [],
   "source": [
    "from sklearn.feature_extraction.text import CountVectorizer"
   ]
  },
  {
   "cell_type": "code",
   "execution_count": 13,
   "metadata": {},
   "outputs": [],
   "source": [
    "#vectorize every column\n",
    "\n",
    "df_vectorized = pd.DataFrame(columns=[\"ip\", \"datetime\", \"gmt\", \"request\", \"content\", \"status\", \"size\", \"referer\", \"browser\", \"country\", \"detected\"])\n",
    "\n",
    "codes, uniques = pd.factorize(csv_train_labels_encoded[\"ip\"])\n",
    "df_vectorized[\"ip\"] = codes\n",
    "\n",
    "codes, uniques = pd.factorize(csv_train_labels_encoded[\"datetime\"])\n",
    "df_vectorized[\"datetime\"] = codes\n",
    "\n",
    "codes, uniques = pd.factorize(csv_train_labels_encoded[\"gmt\"])\n",
    "df_vectorized[\"gmt\"] = codes\n",
    "\n",
    "codes, uniques = pd.factorize(csv_train_labels_encoded[\"request\"])\n",
    "df_vectorized[\"request\"] = codes\n",
    "\n",
    "codes, uniques = pd.factorize(csv_train_labels_encoded[\"content\"])\n",
    "df_vectorized[\"content\"] = codes\n",
    "\n",
    "codes, uniques = pd.factorize(csv_train_split_request[\"status\"].astype(str))\n",
    "df_vectorized[\"status\"] = codes\n",
    "\n",
    "codes, uniques = pd.factorize(csv_train_split_request[\"size\"].astype(str))\n",
    "df_vectorized[\"size\"] = codes\n",
    "\n",
    "\n",
    "codes, uniques = pd.factorize(csv_train_labels_encoded[\"referer\"])\n",
    "df_vectorized[\"referer\"] = codes\n",
    "\n",
    "codes, uniques = pd.factorize(csv_train_labels_encoded[\"browser\"])\n",
    "df_vectorized[\"browser\"] = codes\n",
    "\n",
    "codes, uniques = pd.factorize(csv_train_labels_encoded[\"country\"])\n",
    "df_vectorized[\"country\"] = codes\n",
    "\n",
    "df_vectorized[\"detected\"] = csv_train_labels_encoded[\"detected\"]"
   ]
  },
  {
   "cell_type": "code",
   "execution_count": 14,
   "metadata": {},
   "outputs": [
    {
     "data": {
      "text/html": [
       "<div>\n",
       "<style scoped>\n",
       "    .dataframe tbody tr th:only-of-type {\n",
       "        vertical-align: middle;\n",
       "    }\n",
       "\n",
       "    .dataframe tbody tr th {\n",
       "        vertical-align: top;\n",
       "    }\n",
       "\n",
       "    .dataframe thead th {\n",
       "        text-align: right;\n",
       "    }\n",
       "</style>\n",
       "<table border=\"1\" class=\"dataframe\">\n",
       "  <thead>\n",
       "    <tr style=\"text-align: right;\">\n",
       "      <th></th>\n",
       "      <th>ip</th>\n",
       "      <th>datetime</th>\n",
       "      <th>gmt</th>\n",
       "      <th>request</th>\n",
       "      <th>content</th>\n",
       "      <th>status</th>\n",
       "      <th>size</th>\n",
       "      <th>referer</th>\n",
       "      <th>browser</th>\n",
       "      <th>country</th>\n",
       "      <th>detected</th>\n",
       "    </tr>\n",
       "  </thead>\n",
       "  <tbody>\n",
       "    <tr>\n",
       "      <th>0</th>\n",
       "      <td>0</td>\n",
       "      <td>0</td>\n",
       "      <td>0</td>\n",
       "      <td>0</td>\n",
       "      <td>0</td>\n",
       "      <td>0</td>\n",
       "      <td>0</td>\n",
       "      <td>0</td>\n",
       "      <td>0</td>\n",
       "      <td>0</td>\n",
       "      <td>1</td>\n",
       "    </tr>\n",
       "    <tr>\n",
       "      <th>1</th>\n",
       "      <td>0</td>\n",
       "      <td>1</td>\n",
       "      <td>0</td>\n",
       "      <td>0</td>\n",
       "      <td>1</td>\n",
       "      <td>0</td>\n",
       "      <td>1</td>\n",
       "      <td>1</td>\n",
       "      <td>0</td>\n",
       "      <td>0</td>\n",
       "      <td>1</td>\n",
       "    </tr>\n",
       "    <tr>\n",
       "      <th>2</th>\n",
       "      <td>0</td>\n",
       "      <td>2</td>\n",
       "      <td>0</td>\n",
       "      <td>1</td>\n",
       "      <td>1</td>\n",
       "      <td>0</td>\n",
       "      <td>2</td>\n",
       "      <td>0</td>\n",
       "      <td>0</td>\n",
       "      <td>0</td>\n",
       "      <td>1</td>\n",
       "    </tr>\n",
       "    <tr>\n",
       "      <th>3</th>\n",
       "      <td>0</td>\n",
       "      <td>3</td>\n",
       "      <td>0</td>\n",
       "      <td>0</td>\n",
       "      <td>2</td>\n",
       "      <td>1</td>\n",
       "      <td>3</td>\n",
       "      <td>2</td>\n",
       "      <td>0</td>\n",
       "      <td>0</td>\n",
       "      <td>1</td>\n",
       "    </tr>\n",
       "    <tr>\n",
       "      <th>4</th>\n",
       "      <td>0</td>\n",
       "      <td>4</td>\n",
       "      <td>0</td>\n",
       "      <td>0</td>\n",
       "      <td>3</td>\n",
       "      <td>0</td>\n",
       "      <td>4</td>\n",
       "      <td>2</td>\n",
       "      <td>0</td>\n",
       "      <td>0</td>\n",
       "      <td>1</td>\n",
       "    </tr>\n",
       "    <tr>\n",
       "      <th>...</th>\n",
       "      <td>...</td>\n",
       "      <td>...</td>\n",
       "      <td>...</td>\n",
       "      <td>...</td>\n",
       "      <td>...</td>\n",
       "      <td>...</td>\n",
       "      <td>...</td>\n",
       "      <td>...</td>\n",
       "      <td>...</td>\n",
       "      <td>...</td>\n",
       "      <td>...</td>\n",
       "    </tr>\n",
       "    <tr>\n",
       "      <th>37688</th>\n",
       "      <td>651</td>\n",
       "      <td>17761</td>\n",
       "      <td>0</td>\n",
       "      <td>0</td>\n",
       "      <td>1789</td>\n",
       "      <td>0</td>\n",
       "      <td>2870</td>\n",
       "      <td>333</td>\n",
       "      <td>69</td>\n",
       "      <td>0</td>\n",
       "      <td>0</td>\n",
       "    </tr>\n",
       "    <tr>\n",
       "      <th>37689</th>\n",
       "      <td>651</td>\n",
       "      <td>17762</td>\n",
       "      <td>0</td>\n",
       "      <td>0</td>\n",
       "      <td>2401</td>\n",
       "      <td>0</td>\n",
       "      <td>7015</td>\n",
       "      <td>333</td>\n",
       "      <td>69</td>\n",
       "      <td>0</td>\n",
       "      <td>0</td>\n",
       "    </tr>\n",
       "    <tr>\n",
       "      <th>37690</th>\n",
       "      <td>651</td>\n",
       "      <td>17763</td>\n",
       "      <td>0</td>\n",
       "      <td>0</td>\n",
       "      <td>2478</td>\n",
       "      <td>0</td>\n",
       "      <td>3933</td>\n",
       "      <td>333</td>\n",
       "      <td>69</td>\n",
       "      <td>0</td>\n",
       "      <td>0</td>\n",
       "    </tr>\n",
       "    <tr>\n",
       "      <th>37691</th>\n",
       "      <td>651</td>\n",
       "      <td>17764</td>\n",
       "      <td>0</td>\n",
       "      <td>0</td>\n",
       "      <td>2483</td>\n",
       "      <td>0</td>\n",
       "      <td>3937</td>\n",
       "      <td>333</td>\n",
       "      <td>69</td>\n",
       "      <td>0</td>\n",
       "      <td>0</td>\n",
       "    </tr>\n",
       "    <tr>\n",
       "      <th>37692</th>\n",
       "      <td>651</td>\n",
       "      <td>17765</td>\n",
       "      <td>0</td>\n",
       "      <td>0</td>\n",
       "      <td>1785</td>\n",
       "      <td>0</td>\n",
       "      <td>7017</td>\n",
       "      <td>333</td>\n",
       "      <td>69</td>\n",
       "      <td>0</td>\n",
       "      <td>0</td>\n",
       "    </tr>\n",
       "  </tbody>\n",
       "</table>\n",
       "<p>37693 rows × 11 columns</p>\n",
       "</div>"
      ],
      "text/plain": [
       "        ip  datetime  gmt  request  content  status  size  referer  browser   \n",
       "0        0         0    0        0        0       0     0        0        0  \\\n",
       "1        0         1    0        0        1       0     1        1        0   \n",
       "2        0         2    0        1        1       0     2        0        0   \n",
       "3        0         3    0        0        2       1     3        2        0   \n",
       "4        0         4    0        0        3       0     4        2        0   \n",
       "...    ...       ...  ...      ...      ...     ...   ...      ...      ...   \n",
       "37688  651     17761    0        0     1789       0  2870      333       69   \n",
       "37689  651     17762    0        0     2401       0  7015      333       69   \n",
       "37690  651     17763    0        0     2478       0  3933      333       69   \n",
       "37691  651     17764    0        0     2483       0  3937      333       69   \n",
       "37692  651     17765    0        0     1785       0  7017      333       69   \n",
       "\n",
       "       country  detected  \n",
       "0            0         1  \n",
       "1            0         1  \n",
       "2            0         1  \n",
       "3            0         1  \n",
       "4            0         1  \n",
       "...        ...       ...  \n",
       "37688        0         0  \n",
       "37689        0         0  \n",
       "37690        0         0  \n",
       "37691        0         0  \n",
       "37692        0         0  \n",
       "\n",
       "[37693 rows x 11 columns]"
      ]
     },
     "execution_count": 14,
     "metadata": {},
     "output_type": "execute_result"
    }
   ],
   "source": [
    "df_vectorized"
   ]
  },
  {
   "attachments": {},
   "cell_type": "markdown",
   "metadata": {},
   "source": [
    "## Split"
   ]
  },
  {
   "cell_type": "code",
   "execution_count": 15,
   "metadata": {},
   "outputs": [],
   "source": [
    "Y = pd.DataFrame()\n",
    "Y[\"detected\"] = df_vectorized[\"detected\"]\n",
    "X = df_vectorized.drop([\"detected\"], axis=1)"
   ]
  },
  {
   "cell_type": "code",
   "execution_count": 16,
   "metadata": {},
   "outputs": [
    {
     "data": {
      "text/html": [
       "<div>\n",
       "<style scoped>\n",
       "    .dataframe tbody tr th:only-of-type {\n",
       "        vertical-align: middle;\n",
       "    }\n",
       "\n",
       "    .dataframe tbody tr th {\n",
       "        vertical-align: top;\n",
       "    }\n",
       "\n",
       "    .dataframe thead th {\n",
       "        text-align: right;\n",
       "    }\n",
       "</style>\n",
       "<table border=\"1\" class=\"dataframe\">\n",
       "  <thead>\n",
       "    <tr style=\"text-align: right;\">\n",
       "      <th></th>\n",
       "      <th>detected</th>\n",
       "    </tr>\n",
       "  </thead>\n",
       "  <tbody>\n",
       "    <tr>\n",
       "      <th>0</th>\n",
       "      <td>1</td>\n",
       "    </tr>\n",
       "    <tr>\n",
       "      <th>1</th>\n",
       "      <td>1</td>\n",
       "    </tr>\n",
       "    <tr>\n",
       "      <th>2</th>\n",
       "      <td>1</td>\n",
       "    </tr>\n",
       "    <tr>\n",
       "      <th>3</th>\n",
       "      <td>1</td>\n",
       "    </tr>\n",
       "    <tr>\n",
       "      <th>4</th>\n",
       "      <td>1</td>\n",
       "    </tr>\n",
       "  </tbody>\n",
       "</table>\n",
       "</div>"
      ],
      "text/plain": [
       "   detected\n",
       "0         1\n",
       "1         1\n",
       "2         1\n",
       "3         1\n",
       "4         1"
      ]
     },
     "execution_count": 16,
     "metadata": {},
     "output_type": "execute_result"
    }
   ],
   "source": [
    "Y.head()"
   ]
  },
  {
   "cell_type": "code",
   "execution_count": 17,
   "metadata": {},
   "outputs": [],
   "source": [
    "from sklearn.model_selection import train_test_split"
   ]
  },
  {
   "cell_type": "code",
   "execution_count": 18,
   "metadata": {},
   "outputs": [],
   "source": [
    "x_train, x_test, y_train, y_test = train_test_split(X, Y, test_size=0.2, random_state=42)"
   ]
  },
  {
   "cell_type": "code",
   "execution_count": 19,
   "metadata": {},
   "outputs": [
    {
     "data": {
      "text/html": [
       "<div>\n",
       "<style scoped>\n",
       "    .dataframe tbody tr th:only-of-type {\n",
       "        vertical-align: middle;\n",
       "    }\n",
       "\n",
       "    .dataframe tbody tr th {\n",
       "        vertical-align: top;\n",
       "    }\n",
       "\n",
       "    .dataframe thead th {\n",
       "        text-align: right;\n",
       "    }\n",
       "</style>\n",
       "<table border=\"1\" class=\"dataframe\">\n",
       "  <thead>\n",
       "    <tr style=\"text-align: right;\">\n",
       "      <th></th>\n",
       "      <th>ip</th>\n",
       "      <th>datetime</th>\n",
       "      <th>gmt</th>\n",
       "      <th>request</th>\n",
       "      <th>content</th>\n",
       "      <th>status</th>\n",
       "      <th>size</th>\n",
       "      <th>referer</th>\n",
       "      <th>browser</th>\n",
       "      <th>country</th>\n",
       "    </tr>\n",
       "  </thead>\n",
       "  <tbody>\n",
       "    <tr>\n",
       "      <th>30127</th>\n",
       "      <td>104</td>\n",
       "      <td>13994</td>\n",
       "      <td>0</td>\n",
       "      <td>0</td>\n",
       "      <td>4181</td>\n",
       "      <td>0</td>\n",
       "      <td>9031</td>\n",
       "      <td>987</td>\n",
       "      <td>73</td>\n",
       "      <td>0</td>\n",
       "    </tr>\n",
       "    <tr>\n",
       "      <th>6502</th>\n",
       "      <td>104</td>\n",
       "      <td>3152</td>\n",
       "      <td>0</td>\n",
       "      <td>0</td>\n",
       "      <td>94</td>\n",
       "      <td>0</td>\n",
       "      <td>1056</td>\n",
       "      <td>30</td>\n",
       "      <td>92</td>\n",
       "      <td>0</td>\n",
       "    </tr>\n",
       "    <tr>\n",
       "      <th>33583</th>\n",
       "      <td>518</td>\n",
       "      <td>15938</td>\n",
       "      <td>0</td>\n",
       "      <td>0</td>\n",
       "      <td>3601</td>\n",
       "      <td>8</td>\n",
       "      <td>9866</td>\n",
       "      <td>1257</td>\n",
       "      <td>196</td>\n",
       "      <td>0</td>\n",
       "    </tr>\n",
       "    <tr>\n",
       "      <th>23651</th>\n",
       "      <td>4</td>\n",
       "      <td>11216</td>\n",
       "      <td>0</td>\n",
       "      <td>0</td>\n",
       "      <td>55</td>\n",
       "      <td>0</td>\n",
       "      <td>1012</td>\n",
       "      <td>7</td>\n",
       "      <td>134</td>\n",
       "      <td>1</td>\n",
       "    </tr>\n",
       "    <tr>\n",
       "      <th>12518</th>\n",
       "      <td>203</td>\n",
       "      <td>6052</td>\n",
       "      <td>0</td>\n",
       "      <td>0</td>\n",
       "      <td>10</td>\n",
       "      <td>0</td>\n",
       "      <td>3050</td>\n",
       "      <td>34</td>\n",
       "      <td>11</td>\n",
       "      <td>0</td>\n",
       "    </tr>\n",
       "  </tbody>\n",
       "</table>\n",
       "</div>"
      ],
      "text/plain": [
       "        ip  datetime  gmt  request  content  status  size  referer  browser   \n",
       "30127  104     13994    0        0     4181       0  9031      987       73  \\\n",
       "6502   104      3152    0        0       94       0  1056       30       92   \n",
       "33583  518     15938    0        0     3601       8  9866     1257      196   \n",
       "23651    4     11216    0        0       55       0  1012        7      134   \n",
       "12518  203      6052    0        0       10       0  3050       34       11   \n",
       "\n",
       "       country  \n",
       "30127        0  \n",
       "6502         0  \n",
       "33583        0  \n",
       "23651        1  \n",
       "12518        0  "
      ]
     },
     "execution_count": 19,
     "metadata": {},
     "output_type": "execute_result"
    }
   ],
   "source": [
    "x_train.head()"
   ]
  },
  {
   "cell_type": "code",
   "execution_count": 20,
   "metadata": {},
   "outputs": [
    {
     "data": {
      "text/html": [
       "<div>\n",
       "<style scoped>\n",
       "    .dataframe tbody tr th:only-of-type {\n",
       "        vertical-align: middle;\n",
       "    }\n",
       "\n",
       "    .dataframe tbody tr th {\n",
       "        vertical-align: top;\n",
       "    }\n",
       "\n",
       "    .dataframe thead th {\n",
       "        text-align: right;\n",
       "    }\n",
       "</style>\n",
       "<table border=\"1\" class=\"dataframe\">\n",
       "  <thead>\n",
       "    <tr style=\"text-align: right;\">\n",
       "      <th></th>\n",
       "      <th>detected</th>\n",
       "    </tr>\n",
       "  </thead>\n",
       "  <tbody>\n",
       "    <tr>\n",
       "      <th>30127</th>\n",
       "      <td>0</td>\n",
       "    </tr>\n",
       "    <tr>\n",
       "      <th>6502</th>\n",
       "      <td>0</td>\n",
       "    </tr>\n",
       "    <tr>\n",
       "      <th>33583</th>\n",
       "      <td>0</td>\n",
       "    </tr>\n",
       "    <tr>\n",
       "      <th>23651</th>\n",
       "      <td>2</td>\n",
       "    </tr>\n",
       "    <tr>\n",
       "      <th>12518</th>\n",
       "      <td>0</td>\n",
       "    </tr>\n",
       "  </tbody>\n",
       "</table>\n",
       "</div>"
      ],
      "text/plain": [
       "       detected\n",
       "30127         0\n",
       "6502          0\n",
       "33583         0\n",
       "23651         2\n",
       "12518         0"
      ]
     },
     "execution_count": 20,
     "metadata": {},
     "output_type": "execute_result"
    }
   ],
   "source": [
    "y_train.head()"
   ]
  },
  {
   "attachments": {},
   "cell_type": "markdown",
   "metadata": {},
   "source": [
    "# Evaluation des algorithmes sans feature selection"
   ]
  },
  {
   "attachments": {},
   "cell_type": "markdown",
   "metadata": {},
   "source": [
    "## Random Forest"
   ]
  },
  {
   "cell_type": "code",
   "execution_count": 21,
   "metadata": {},
   "outputs": [],
   "source": [
    "from sklearn.ensemble import RandomForestClassifier\n",
    "from sklearn.metrics import classification_report"
   ]
  },
  {
   "cell_type": "code",
   "execution_count": 22,
   "metadata": {},
   "outputs": [
    {
     "name": "stdout",
     "output_type": "stream",
     "text": [
      "<class 'pandas.core.frame.DataFrame'>\n",
      "<class 'pandas.core.frame.DataFrame'>\n"
     ]
    }
   ],
   "source": [
    "print(type(x_train))\n",
    "print(type(y_train))"
   ]
  },
  {
   "cell_type": "code",
   "execution_count": 23,
   "metadata": {},
   "outputs": [
    {
     "name": "stderr",
     "output_type": "stream",
     "text": [
      "/tmp/ipykernel_5553/758457822.py:2: DataConversionWarning: A column-vector y was passed when a 1d array was expected. Please change the shape of y to (n_samples,), for example using ravel().\n",
      "  clf.fit(x_train, y_train)\n"
     ]
    },
    {
     "data": {
      "text/html": [
       "<style>#sk-container-id-1 {color: black;background-color: white;}#sk-container-id-1 pre{padding: 0;}#sk-container-id-1 div.sk-toggleable {background-color: white;}#sk-container-id-1 label.sk-toggleable__label {cursor: pointer;display: block;width: 100%;margin-bottom: 0;padding: 0.3em;box-sizing: border-box;text-align: center;}#sk-container-id-1 label.sk-toggleable__label-arrow:before {content: \"▸\";float: left;margin-right: 0.25em;color: #696969;}#sk-container-id-1 label.sk-toggleable__label-arrow:hover:before {color: black;}#sk-container-id-1 div.sk-estimator:hover label.sk-toggleable__label-arrow:before {color: black;}#sk-container-id-1 div.sk-toggleable__content {max-height: 0;max-width: 0;overflow: hidden;text-align: left;background-color: #f0f8ff;}#sk-container-id-1 div.sk-toggleable__content pre {margin: 0.2em;color: black;border-radius: 0.25em;background-color: #f0f8ff;}#sk-container-id-1 input.sk-toggleable__control:checked~div.sk-toggleable__content {max-height: 200px;max-width: 100%;overflow: auto;}#sk-container-id-1 input.sk-toggleable__control:checked~label.sk-toggleable__label-arrow:before {content: \"▾\";}#sk-container-id-1 div.sk-estimator input.sk-toggleable__control:checked~label.sk-toggleable__label {background-color: #d4ebff;}#sk-container-id-1 div.sk-label input.sk-toggleable__control:checked~label.sk-toggleable__label {background-color: #d4ebff;}#sk-container-id-1 input.sk-hidden--visually {border: 0;clip: rect(1px 1px 1px 1px);clip: rect(1px, 1px, 1px, 1px);height: 1px;margin: -1px;overflow: hidden;padding: 0;position: absolute;width: 1px;}#sk-container-id-1 div.sk-estimator {font-family: monospace;background-color: #f0f8ff;border: 1px dotted black;border-radius: 0.25em;box-sizing: border-box;margin-bottom: 0.5em;}#sk-container-id-1 div.sk-estimator:hover {background-color: #d4ebff;}#sk-container-id-1 div.sk-parallel-item::after {content: \"\";width: 100%;border-bottom: 1px solid gray;flex-grow: 1;}#sk-container-id-1 div.sk-label:hover label.sk-toggleable__label {background-color: #d4ebff;}#sk-container-id-1 div.sk-serial::before {content: \"\";position: absolute;border-left: 1px solid gray;box-sizing: border-box;top: 0;bottom: 0;left: 50%;z-index: 0;}#sk-container-id-1 div.sk-serial {display: flex;flex-direction: column;align-items: center;background-color: white;padding-right: 0.2em;padding-left: 0.2em;position: relative;}#sk-container-id-1 div.sk-item {position: relative;z-index: 1;}#sk-container-id-1 div.sk-parallel {display: flex;align-items: stretch;justify-content: center;background-color: white;position: relative;}#sk-container-id-1 div.sk-item::before, #sk-container-id-1 div.sk-parallel-item::before {content: \"\";position: absolute;border-left: 1px solid gray;box-sizing: border-box;top: 0;bottom: 0;left: 50%;z-index: -1;}#sk-container-id-1 div.sk-parallel-item {display: flex;flex-direction: column;z-index: 1;position: relative;background-color: white;}#sk-container-id-1 div.sk-parallel-item:first-child::after {align-self: flex-end;width: 50%;}#sk-container-id-1 div.sk-parallel-item:last-child::after {align-self: flex-start;width: 50%;}#sk-container-id-1 div.sk-parallel-item:only-child::after {width: 0;}#sk-container-id-1 div.sk-dashed-wrapped {border: 1px dashed gray;margin: 0 0.4em 0.5em 0.4em;box-sizing: border-box;padding-bottom: 0.4em;background-color: white;}#sk-container-id-1 div.sk-label label {font-family: monospace;font-weight: bold;display: inline-block;line-height: 1.2em;}#sk-container-id-1 div.sk-label-container {text-align: center;}#sk-container-id-1 div.sk-container {/* jupyter's `normalize.less` sets `[hidden] { display: none; }` but bootstrap.min.css set `[hidden] { display: none !important; }` so we also need the `!important` here to be able to override the default hidden behavior on the sphinx rendered scikit-learn.org. See: https://github.com/scikit-learn/scikit-learn/issues/21755 */display: inline-block !important;position: relative;}#sk-container-id-1 div.sk-text-repr-fallback {display: none;}</style><div id=\"sk-container-id-1\" class=\"sk-top-container\"><div class=\"sk-text-repr-fallback\"><pre>RandomForestClassifier()</pre><b>In a Jupyter environment, please rerun this cell to show the HTML representation or trust the notebook. <br />On GitHub, the HTML representation is unable to render, please try loading this page with nbviewer.org.</b></div><div class=\"sk-container\" hidden><div class=\"sk-item\"><div class=\"sk-estimator sk-toggleable\"><input class=\"sk-toggleable__control sk-hidden--visually\" id=\"sk-estimator-id-1\" type=\"checkbox\" checked><label for=\"sk-estimator-id-1\" class=\"sk-toggleable__label sk-toggleable__label-arrow\">RandomForestClassifier</label><div class=\"sk-toggleable__content\"><pre>RandomForestClassifier()</pre></div></div></div></div></div>"
      ],
      "text/plain": [
       "RandomForestClassifier()"
      ]
     },
     "execution_count": 23,
     "metadata": {},
     "output_type": "execute_result"
    }
   ],
   "source": [
    "clf = RandomForestClassifier()\n",
    "clf.fit(x_train, y_train)"
   ]
  },
  {
   "cell_type": "code",
   "execution_count": 24,
   "metadata": {},
   "outputs": [],
   "source": [
    "y_pred = clf.predict(x_test)"
   ]
  },
  {
   "cell_type": "code",
   "execution_count": 25,
   "metadata": {},
   "outputs": [
    {
     "name": "stdout",
     "output_type": "stream",
     "text": [
      "              precision    recall  f1-score   support\n",
      "\n",
      "           0       1.00      1.00      1.00      5951\n",
      "           1       1.00      1.00      1.00      1014\n",
      "           2       0.99      1.00      1.00       574\n",
      "\n",
      "    accuracy                           1.00      7539\n",
      "   macro avg       1.00      1.00      1.00      7539\n",
      "weighted avg       1.00      1.00      1.00      7539\n",
      "\n"
     ]
    }
   ],
   "source": [
    "print(classification_report(y_test, y_pred))"
   ]
  },
  {
   "cell_type": "code",
   "execution_count": 26,
   "metadata": {},
   "outputs": [
    {
     "name": "stdout",
     "output_type": "stream",
     "text": [
      "accuracy: 0.9990714948932219\n"
     ]
    }
   ],
   "source": [
    "print(\"accuracy:\",accuracy_score(y_test, y_pred)) "
   ]
  },
  {
   "attachments": {},
   "cell_type": "markdown",
   "metadata": {},
   "source": [
    "## SVM"
   ]
  },
  {
   "cell_type": "code",
   "execution_count": 27,
   "metadata": {},
   "outputs": [],
   "source": [
    "from sklearn import svm"
   ]
  },
  {
   "cell_type": "code",
   "execution_count": 28,
   "metadata": {},
   "outputs": [
    {
     "name": "stderr",
     "output_type": "stream",
     "text": [
      "/home/slo/.local/lib/python3.11/site-packages/sklearn/utils/validation.py:1143: DataConversionWarning: A column-vector y was passed when a 1d array was expected. Please change the shape of y to (n_samples, ), for example using ravel().\n",
      "  y = column_or_1d(y, warn=True)\n"
     ]
    },
    {
     "data": {
      "text/html": [
       "<style>#sk-container-id-2 {color: black;background-color: white;}#sk-container-id-2 pre{padding: 0;}#sk-container-id-2 div.sk-toggleable {background-color: white;}#sk-container-id-2 label.sk-toggleable__label {cursor: pointer;display: block;width: 100%;margin-bottom: 0;padding: 0.3em;box-sizing: border-box;text-align: center;}#sk-container-id-2 label.sk-toggleable__label-arrow:before {content: \"▸\";float: left;margin-right: 0.25em;color: #696969;}#sk-container-id-2 label.sk-toggleable__label-arrow:hover:before {color: black;}#sk-container-id-2 div.sk-estimator:hover label.sk-toggleable__label-arrow:before {color: black;}#sk-container-id-2 div.sk-toggleable__content {max-height: 0;max-width: 0;overflow: hidden;text-align: left;background-color: #f0f8ff;}#sk-container-id-2 div.sk-toggleable__content pre {margin: 0.2em;color: black;border-radius: 0.25em;background-color: #f0f8ff;}#sk-container-id-2 input.sk-toggleable__control:checked~div.sk-toggleable__content {max-height: 200px;max-width: 100%;overflow: auto;}#sk-container-id-2 input.sk-toggleable__control:checked~label.sk-toggleable__label-arrow:before {content: \"▾\";}#sk-container-id-2 div.sk-estimator input.sk-toggleable__control:checked~label.sk-toggleable__label {background-color: #d4ebff;}#sk-container-id-2 div.sk-label input.sk-toggleable__control:checked~label.sk-toggleable__label {background-color: #d4ebff;}#sk-container-id-2 input.sk-hidden--visually {border: 0;clip: rect(1px 1px 1px 1px);clip: rect(1px, 1px, 1px, 1px);height: 1px;margin: -1px;overflow: hidden;padding: 0;position: absolute;width: 1px;}#sk-container-id-2 div.sk-estimator {font-family: monospace;background-color: #f0f8ff;border: 1px dotted black;border-radius: 0.25em;box-sizing: border-box;margin-bottom: 0.5em;}#sk-container-id-2 div.sk-estimator:hover {background-color: #d4ebff;}#sk-container-id-2 div.sk-parallel-item::after {content: \"\";width: 100%;border-bottom: 1px solid gray;flex-grow: 1;}#sk-container-id-2 div.sk-label:hover label.sk-toggleable__label {background-color: #d4ebff;}#sk-container-id-2 div.sk-serial::before {content: \"\";position: absolute;border-left: 1px solid gray;box-sizing: border-box;top: 0;bottom: 0;left: 50%;z-index: 0;}#sk-container-id-2 div.sk-serial {display: flex;flex-direction: column;align-items: center;background-color: white;padding-right: 0.2em;padding-left: 0.2em;position: relative;}#sk-container-id-2 div.sk-item {position: relative;z-index: 1;}#sk-container-id-2 div.sk-parallel {display: flex;align-items: stretch;justify-content: center;background-color: white;position: relative;}#sk-container-id-2 div.sk-item::before, #sk-container-id-2 div.sk-parallel-item::before {content: \"\";position: absolute;border-left: 1px solid gray;box-sizing: border-box;top: 0;bottom: 0;left: 50%;z-index: -1;}#sk-container-id-2 div.sk-parallel-item {display: flex;flex-direction: column;z-index: 1;position: relative;background-color: white;}#sk-container-id-2 div.sk-parallel-item:first-child::after {align-self: flex-end;width: 50%;}#sk-container-id-2 div.sk-parallel-item:last-child::after {align-self: flex-start;width: 50%;}#sk-container-id-2 div.sk-parallel-item:only-child::after {width: 0;}#sk-container-id-2 div.sk-dashed-wrapped {border: 1px dashed gray;margin: 0 0.4em 0.5em 0.4em;box-sizing: border-box;padding-bottom: 0.4em;background-color: white;}#sk-container-id-2 div.sk-label label {font-family: monospace;font-weight: bold;display: inline-block;line-height: 1.2em;}#sk-container-id-2 div.sk-label-container {text-align: center;}#sk-container-id-2 div.sk-container {/* jupyter's `normalize.less` sets `[hidden] { display: none; }` but bootstrap.min.css set `[hidden] { display: none !important; }` so we also need the `!important` here to be able to override the default hidden behavior on the sphinx rendered scikit-learn.org. See: https://github.com/scikit-learn/scikit-learn/issues/21755 */display: inline-block !important;position: relative;}#sk-container-id-2 div.sk-text-repr-fallback {display: none;}</style><div id=\"sk-container-id-2\" class=\"sk-top-container\"><div class=\"sk-text-repr-fallback\"><pre>SVC()</pre><b>In a Jupyter environment, please rerun this cell to show the HTML representation or trust the notebook. <br />On GitHub, the HTML representation is unable to render, please try loading this page with nbviewer.org.</b></div><div class=\"sk-container\" hidden><div class=\"sk-item\"><div class=\"sk-estimator sk-toggleable\"><input class=\"sk-toggleable__control sk-hidden--visually\" id=\"sk-estimator-id-2\" type=\"checkbox\" checked><label for=\"sk-estimator-id-2\" class=\"sk-toggleable__label sk-toggleable__label-arrow\">SVC</label><div class=\"sk-toggleable__content\"><pre>SVC()</pre></div></div></div></div></div>"
      ],
      "text/plain": [
       "SVC()"
      ]
     },
     "execution_count": 28,
     "metadata": {},
     "output_type": "execute_result"
    }
   ],
   "source": [
    "clf = svm.SVC()\n",
    "clf.fit(x_train, y_train)"
   ]
  },
  {
   "cell_type": "code",
   "execution_count": 29,
   "metadata": {},
   "outputs": [],
   "source": [
    "y_pred = clf.predict(x_test)"
   ]
  },
  {
   "cell_type": "code",
   "execution_count": 30,
   "metadata": {},
   "outputs": [
    {
     "name": "stdout",
     "output_type": "stream",
     "text": [
      "              precision    recall  f1-score   support\n",
      "\n",
      "           0       0.91      0.99      0.95      5951\n",
      "           1       0.89      0.99      0.93      1014\n",
      "           2       0.00      0.00      0.00       574\n",
      "\n",
      "    accuracy                           0.91      7539\n",
      "   macro avg       0.60      0.66      0.63      7539\n",
      "weighted avg       0.84      0.91      0.87      7539\n",
      "\n"
     ]
    },
    {
     "name": "stderr",
     "output_type": "stream",
     "text": [
      "/home/slo/.local/lib/python3.11/site-packages/sklearn/metrics/_classification.py:1344: UndefinedMetricWarning: Precision and F-score are ill-defined and being set to 0.0 in labels with no predicted samples. Use `zero_division` parameter to control this behavior.\n",
      "  _warn_prf(average, modifier, msg_start, len(result))\n",
      "/home/slo/.local/lib/python3.11/site-packages/sklearn/metrics/_classification.py:1344: UndefinedMetricWarning: Precision and F-score are ill-defined and being set to 0.0 in labels with no predicted samples. Use `zero_division` parameter to control this behavior.\n",
      "  _warn_prf(average, modifier, msg_start, len(result))\n",
      "/home/slo/.local/lib/python3.11/site-packages/sklearn/metrics/_classification.py:1344: UndefinedMetricWarning: Precision and F-score are ill-defined and being set to 0.0 in labels with no predicted samples. Use `zero_division` parameter to control this behavior.\n",
      "  _warn_prf(average, modifier, msg_start, len(result))\n"
     ]
    }
   ],
   "source": [
    "print(classification_report(y_test, y_pred))"
   ]
  },
  {
   "cell_type": "code",
   "execution_count": 31,
   "metadata": {},
   "outputs": [
    {
     "name": "stdout",
     "output_type": "stream",
     "text": [
      "accuracy: 0.9103329354025733\n"
     ]
    }
   ],
   "source": [
    "print(\"accuracy:\",accuracy_score(y_test, y_pred)) "
   ]
  },
  {
   "attachments": {},
   "cell_type": "markdown",
   "metadata": {},
   "source": [
    "## XGBoost"
   ]
  },
  {
   "cell_type": "code",
   "execution_count": 32,
   "metadata": {},
   "outputs": [],
   "source": [
    "from xgboost import XGBClassifier"
   ]
  },
  {
   "cell_type": "code",
   "execution_count": 33,
   "metadata": {},
   "outputs": [
    {
     "data": {
      "text/html": [
       "<style>#sk-container-id-3 {color: black;background-color: white;}#sk-container-id-3 pre{padding: 0;}#sk-container-id-3 div.sk-toggleable {background-color: white;}#sk-container-id-3 label.sk-toggleable__label {cursor: pointer;display: block;width: 100%;margin-bottom: 0;padding: 0.3em;box-sizing: border-box;text-align: center;}#sk-container-id-3 label.sk-toggleable__label-arrow:before {content: \"▸\";float: left;margin-right: 0.25em;color: #696969;}#sk-container-id-3 label.sk-toggleable__label-arrow:hover:before {color: black;}#sk-container-id-3 div.sk-estimator:hover label.sk-toggleable__label-arrow:before {color: black;}#sk-container-id-3 div.sk-toggleable__content {max-height: 0;max-width: 0;overflow: hidden;text-align: left;background-color: #f0f8ff;}#sk-container-id-3 div.sk-toggleable__content pre {margin: 0.2em;color: black;border-radius: 0.25em;background-color: #f0f8ff;}#sk-container-id-3 input.sk-toggleable__control:checked~div.sk-toggleable__content {max-height: 200px;max-width: 100%;overflow: auto;}#sk-container-id-3 input.sk-toggleable__control:checked~label.sk-toggleable__label-arrow:before {content: \"▾\";}#sk-container-id-3 div.sk-estimator input.sk-toggleable__control:checked~label.sk-toggleable__label {background-color: #d4ebff;}#sk-container-id-3 div.sk-label input.sk-toggleable__control:checked~label.sk-toggleable__label {background-color: #d4ebff;}#sk-container-id-3 input.sk-hidden--visually {border: 0;clip: rect(1px 1px 1px 1px);clip: rect(1px, 1px, 1px, 1px);height: 1px;margin: -1px;overflow: hidden;padding: 0;position: absolute;width: 1px;}#sk-container-id-3 div.sk-estimator {font-family: monospace;background-color: #f0f8ff;border: 1px dotted black;border-radius: 0.25em;box-sizing: border-box;margin-bottom: 0.5em;}#sk-container-id-3 div.sk-estimator:hover {background-color: #d4ebff;}#sk-container-id-3 div.sk-parallel-item::after {content: \"\";width: 100%;border-bottom: 1px solid gray;flex-grow: 1;}#sk-container-id-3 div.sk-label:hover label.sk-toggleable__label {background-color: #d4ebff;}#sk-container-id-3 div.sk-serial::before {content: \"\";position: absolute;border-left: 1px solid gray;box-sizing: border-box;top: 0;bottom: 0;left: 50%;z-index: 0;}#sk-container-id-3 div.sk-serial {display: flex;flex-direction: column;align-items: center;background-color: white;padding-right: 0.2em;padding-left: 0.2em;position: relative;}#sk-container-id-3 div.sk-item {position: relative;z-index: 1;}#sk-container-id-3 div.sk-parallel {display: flex;align-items: stretch;justify-content: center;background-color: white;position: relative;}#sk-container-id-3 div.sk-item::before, #sk-container-id-3 div.sk-parallel-item::before {content: \"\";position: absolute;border-left: 1px solid gray;box-sizing: border-box;top: 0;bottom: 0;left: 50%;z-index: -1;}#sk-container-id-3 div.sk-parallel-item {display: flex;flex-direction: column;z-index: 1;position: relative;background-color: white;}#sk-container-id-3 div.sk-parallel-item:first-child::after {align-self: flex-end;width: 50%;}#sk-container-id-3 div.sk-parallel-item:last-child::after {align-self: flex-start;width: 50%;}#sk-container-id-3 div.sk-parallel-item:only-child::after {width: 0;}#sk-container-id-3 div.sk-dashed-wrapped {border: 1px dashed gray;margin: 0 0.4em 0.5em 0.4em;box-sizing: border-box;padding-bottom: 0.4em;background-color: white;}#sk-container-id-3 div.sk-label label {font-family: monospace;font-weight: bold;display: inline-block;line-height: 1.2em;}#sk-container-id-3 div.sk-label-container {text-align: center;}#sk-container-id-3 div.sk-container {/* jupyter's `normalize.less` sets `[hidden] { display: none; }` but bootstrap.min.css set `[hidden] { display: none !important; }` so we also need the `!important` here to be able to override the default hidden behavior on the sphinx rendered scikit-learn.org. See: https://github.com/scikit-learn/scikit-learn/issues/21755 */display: inline-block !important;position: relative;}#sk-container-id-3 div.sk-text-repr-fallback {display: none;}</style><div id=\"sk-container-id-3\" class=\"sk-top-container\"><div class=\"sk-text-repr-fallback\"><pre>XGBClassifier(base_score=None, booster=None, callbacks=None,\n",
       "              colsample_bylevel=None, colsample_bynode=None,\n",
       "              colsample_bytree=None, early_stopping_rounds=None,\n",
       "              enable_categorical=False, eval_metric=None, feature_types=None,\n",
       "              gamma=None, gpu_id=None, grow_policy=None, importance_type=None,\n",
       "              interaction_constraints=None, learning_rate=None, max_bin=None,\n",
       "              max_cat_threshold=None, max_cat_to_onehot=None,\n",
       "              max_delta_step=None, max_depth=None, max_leaves=None,\n",
       "              min_child_weight=None, missing=nan, monotone_constraints=None,\n",
       "              n_estimators=100, n_jobs=None, num_parallel_tree=None,\n",
       "              objective=&#x27;multi:softprob&#x27;, predictor=None, ...)</pre><b>In a Jupyter environment, please rerun this cell to show the HTML representation or trust the notebook. <br />On GitHub, the HTML representation is unable to render, please try loading this page with nbviewer.org.</b></div><div class=\"sk-container\" hidden><div class=\"sk-item\"><div class=\"sk-estimator sk-toggleable\"><input class=\"sk-toggleable__control sk-hidden--visually\" id=\"sk-estimator-id-3\" type=\"checkbox\" checked><label for=\"sk-estimator-id-3\" class=\"sk-toggleable__label sk-toggleable__label-arrow\">XGBClassifier</label><div class=\"sk-toggleable__content\"><pre>XGBClassifier(base_score=None, booster=None, callbacks=None,\n",
       "              colsample_bylevel=None, colsample_bynode=None,\n",
       "              colsample_bytree=None, early_stopping_rounds=None,\n",
       "              enable_categorical=False, eval_metric=None, feature_types=None,\n",
       "              gamma=None, gpu_id=None, grow_policy=None, importance_type=None,\n",
       "              interaction_constraints=None, learning_rate=None, max_bin=None,\n",
       "              max_cat_threshold=None, max_cat_to_onehot=None,\n",
       "              max_delta_step=None, max_depth=None, max_leaves=None,\n",
       "              min_child_weight=None, missing=nan, monotone_constraints=None,\n",
       "              n_estimators=100, n_jobs=None, num_parallel_tree=None,\n",
       "              objective=&#x27;multi:softprob&#x27;, predictor=None, ...)</pre></div></div></div></div></div>"
      ],
      "text/plain": [
       "XGBClassifier(base_score=None, booster=None, callbacks=None,\n",
       "              colsample_bylevel=None, colsample_bynode=None,\n",
       "              colsample_bytree=None, early_stopping_rounds=None,\n",
       "              enable_categorical=False, eval_metric=None, feature_types=None,\n",
       "              gamma=None, gpu_id=None, grow_policy=None, importance_type=None,\n",
       "              interaction_constraints=None, learning_rate=None, max_bin=None,\n",
       "              max_cat_threshold=None, max_cat_to_onehot=None,\n",
       "              max_delta_step=None, max_depth=None, max_leaves=None,\n",
       "              min_child_weight=None, missing=nan, monotone_constraints=None,\n",
       "              n_estimators=100, n_jobs=None, num_parallel_tree=None,\n",
       "              objective='multi:softprob', predictor=None, ...)"
      ]
     },
     "execution_count": 33,
     "metadata": {},
     "output_type": "execute_result"
    }
   ],
   "source": [
    "clf = XGBClassifier()\n",
    "clf.fit(x_train, y_train)"
   ]
  },
  {
   "cell_type": "code",
   "execution_count": 34,
   "metadata": {},
   "outputs": [],
   "source": [
    "y_pred = clf.predict(x_test)"
   ]
  },
  {
   "cell_type": "code",
   "execution_count": 35,
   "metadata": {},
   "outputs": [
    {
     "name": "stdout",
     "output_type": "stream",
     "text": [
      "              precision    recall  f1-score   support\n",
      "\n",
      "           0       1.00      1.00      1.00      5951\n",
      "           1       1.00      1.00      1.00      1014\n",
      "           2       0.99      1.00      1.00       574\n",
      "\n",
      "    accuracy                           1.00      7539\n",
      "   macro avg       1.00      1.00      1.00      7539\n",
      "weighted avg       1.00      1.00      1.00      7539\n",
      "\n"
     ]
    }
   ],
   "source": [
    "print(classification_report(y_test, y_pred))"
   ]
  },
  {
   "cell_type": "code",
   "execution_count": 36,
   "metadata": {},
   "outputs": [
    {
     "name": "stdout",
     "output_type": "stream",
     "text": [
      "accuracy: 0.9994694256532697\n"
     ]
    }
   ],
   "source": [
    "print(\"accuracy:\",accuracy_score(y_test, y_pred)) "
   ]
  },
  {
   "attachments": {},
   "cell_type": "markdown",
   "metadata": {},
   "source": [
    "# Avec feature selection"
   ]
  },
  {
   "attachments": {},
   "cell_type": "markdown",
   "metadata": {},
   "source": [
    "## PCA"
   ]
  },
  {
   "cell_type": "code",
   "execution_count": 37,
   "metadata": {},
   "outputs": [],
   "source": [
    "from sklearn.decomposition import PCA"
   ]
  },
  {
   "cell_type": "code",
   "execution_count": 38,
   "metadata": {},
   "outputs": [],
   "source": [
    "pca = PCA(n_components = 5, svd_solver = 'full')\n",
    "pca.fit(X)\n",
    "X_pca = pca.transform(X)"
   ]
  },
  {
   "cell_type": "code",
   "execution_count": 39,
   "metadata": {},
   "outputs": [],
   "source": [
    "x_train_pca, x_test_pca, y_train_pca, y_test_pca = train_test_split(X_pca, Y, test_size=0.2, random_state=42)"
   ]
  },
  {
   "attachments": {},
   "cell_type": "markdown",
   "metadata": {},
   "source": [
    "### Random Forest"
   ]
  },
  {
   "cell_type": "code",
   "execution_count": 40,
   "metadata": {},
   "outputs": [
    {
     "name": "stderr",
     "output_type": "stream",
     "text": [
      "/tmp/ipykernel_5553/3208905768.py:2: DataConversionWarning: A column-vector y was passed when a 1d array was expected. Please change the shape of y to (n_samples,), for example using ravel().\n",
      "  clf.fit(x_train_pca, y_train_pca)\n"
     ]
    },
    {
     "data": {
      "text/html": [
       "<style>#sk-container-id-4 {color: black;background-color: white;}#sk-container-id-4 pre{padding: 0;}#sk-container-id-4 div.sk-toggleable {background-color: white;}#sk-container-id-4 label.sk-toggleable__label {cursor: pointer;display: block;width: 100%;margin-bottom: 0;padding: 0.3em;box-sizing: border-box;text-align: center;}#sk-container-id-4 label.sk-toggleable__label-arrow:before {content: \"▸\";float: left;margin-right: 0.25em;color: #696969;}#sk-container-id-4 label.sk-toggleable__label-arrow:hover:before {color: black;}#sk-container-id-4 div.sk-estimator:hover label.sk-toggleable__label-arrow:before {color: black;}#sk-container-id-4 div.sk-toggleable__content {max-height: 0;max-width: 0;overflow: hidden;text-align: left;background-color: #f0f8ff;}#sk-container-id-4 div.sk-toggleable__content pre {margin: 0.2em;color: black;border-radius: 0.25em;background-color: #f0f8ff;}#sk-container-id-4 input.sk-toggleable__control:checked~div.sk-toggleable__content {max-height: 200px;max-width: 100%;overflow: auto;}#sk-container-id-4 input.sk-toggleable__control:checked~label.sk-toggleable__label-arrow:before {content: \"▾\";}#sk-container-id-4 div.sk-estimator input.sk-toggleable__control:checked~label.sk-toggleable__label {background-color: #d4ebff;}#sk-container-id-4 div.sk-label input.sk-toggleable__control:checked~label.sk-toggleable__label {background-color: #d4ebff;}#sk-container-id-4 input.sk-hidden--visually {border: 0;clip: rect(1px 1px 1px 1px);clip: rect(1px, 1px, 1px, 1px);height: 1px;margin: -1px;overflow: hidden;padding: 0;position: absolute;width: 1px;}#sk-container-id-4 div.sk-estimator {font-family: monospace;background-color: #f0f8ff;border: 1px dotted black;border-radius: 0.25em;box-sizing: border-box;margin-bottom: 0.5em;}#sk-container-id-4 div.sk-estimator:hover {background-color: #d4ebff;}#sk-container-id-4 div.sk-parallel-item::after {content: \"\";width: 100%;border-bottom: 1px solid gray;flex-grow: 1;}#sk-container-id-4 div.sk-label:hover label.sk-toggleable__label {background-color: #d4ebff;}#sk-container-id-4 div.sk-serial::before {content: \"\";position: absolute;border-left: 1px solid gray;box-sizing: border-box;top: 0;bottom: 0;left: 50%;z-index: 0;}#sk-container-id-4 div.sk-serial {display: flex;flex-direction: column;align-items: center;background-color: white;padding-right: 0.2em;padding-left: 0.2em;position: relative;}#sk-container-id-4 div.sk-item {position: relative;z-index: 1;}#sk-container-id-4 div.sk-parallel {display: flex;align-items: stretch;justify-content: center;background-color: white;position: relative;}#sk-container-id-4 div.sk-item::before, #sk-container-id-4 div.sk-parallel-item::before {content: \"\";position: absolute;border-left: 1px solid gray;box-sizing: border-box;top: 0;bottom: 0;left: 50%;z-index: -1;}#sk-container-id-4 div.sk-parallel-item {display: flex;flex-direction: column;z-index: 1;position: relative;background-color: white;}#sk-container-id-4 div.sk-parallel-item:first-child::after {align-self: flex-end;width: 50%;}#sk-container-id-4 div.sk-parallel-item:last-child::after {align-self: flex-start;width: 50%;}#sk-container-id-4 div.sk-parallel-item:only-child::after {width: 0;}#sk-container-id-4 div.sk-dashed-wrapped {border: 1px dashed gray;margin: 0 0.4em 0.5em 0.4em;box-sizing: border-box;padding-bottom: 0.4em;background-color: white;}#sk-container-id-4 div.sk-label label {font-family: monospace;font-weight: bold;display: inline-block;line-height: 1.2em;}#sk-container-id-4 div.sk-label-container {text-align: center;}#sk-container-id-4 div.sk-container {/* jupyter's `normalize.less` sets `[hidden] { display: none; }` but bootstrap.min.css set `[hidden] { display: none !important; }` so we also need the `!important` here to be able to override the default hidden behavior on the sphinx rendered scikit-learn.org. See: https://github.com/scikit-learn/scikit-learn/issues/21755 */display: inline-block !important;position: relative;}#sk-container-id-4 div.sk-text-repr-fallback {display: none;}</style><div id=\"sk-container-id-4\" class=\"sk-top-container\"><div class=\"sk-text-repr-fallback\"><pre>RandomForestClassifier()</pre><b>In a Jupyter environment, please rerun this cell to show the HTML representation or trust the notebook. <br />On GitHub, the HTML representation is unable to render, please try loading this page with nbviewer.org.</b></div><div class=\"sk-container\" hidden><div class=\"sk-item\"><div class=\"sk-estimator sk-toggleable\"><input class=\"sk-toggleable__control sk-hidden--visually\" id=\"sk-estimator-id-4\" type=\"checkbox\" checked><label for=\"sk-estimator-id-4\" class=\"sk-toggleable__label sk-toggleable__label-arrow\">RandomForestClassifier</label><div class=\"sk-toggleable__content\"><pre>RandomForestClassifier()</pre></div></div></div></div></div>"
      ],
      "text/plain": [
       "RandomForestClassifier()"
      ]
     },
     "execution_count": 40,
     "metadata": {},
     "output_type": "execute_result"
    }
   ],
   "source": [
    "clf = RandomForestClassifier()\n",
    "clf.fit(x_train_pca, y_train_pca)"
   ]
  },
  {
   "cell_type": "code",
   "execution_count": 41,
   "metadata": {},
   "outputs": [],
   "source": [
    "y_pred_pca = clf.predict(x_test_pca)"
   ]
  },
  {
   "cell_type": "code",
   "execution_count": 42,
   "metadata": {},
   "outputs": [
    {
     "name": "stdout",
     "output_type": "stream",
     "text": [
      "              precision    recall  f1-score   support\n",
      "\n",
      "           0    0.99280   0.99614   0.99446      5951\n",
      "           1    0.97654   0.98521   0.98085      1014\n",
      "           2    0.97064   0.92160   0.94549       574\n",
      "\n",
      "    accuracy                        0.98899      7539\n",
      "   macro avg    0.97999   0.96765   0.97360      7539\n",
      "weighted avg    0.98892   0.98899   0.98890      7539\n",
      "\n"
     ]
    }
   ],
   "source": [
    "print(classification_report(y_test_pca, y_pred_pca, digits=5))"
   ]
  },
  {
   "cell_type": "code",
   "execution_count": 43,
   "metadata": {},
   "outputs": [
    {
     "name": "stdout",
     "output_type": "stream",
     "text": [
      "accuracy: 0.9889905823053455\n"
     ]
    }
   ],
   "source": [
    "print(\"accuracy:\",accuracy_score(y_test_pca, y_pred_pca)) "
   ]
  },
  {
   "attachments": {},
   "cell_type": "markdown",
   "metadata": {},
   "source": [
    "### SVM"
   ]
  },
  {
   "cell_type": "code",
   "execution_count": 44,
   "metadata": {},
   "outputs": [
    {
     "name": "stderr",
     "output_type": "stream",
     "text": [
      "/home/slo/.local/lib/python3.11/site-packages/sklearn/utils/validation.py:1143: DataConversionWarning: A column-vector y was passed when a 1d array was expected. Please change the shape of y to (n_samples, ), for example using ravel().\n",
      "  y = column_or_1d(y, warn=True)\n"
     ]
    },
    {
     "data": {
      "text/html": [
       "<style>#sk-container-id-5 {color: black;background-color: white;}#sk-container-id-5 pre{padding: 0;}#sk-container-id-5 div.sk-toggleable {background-color: white;}#sk-container-id-5 label.sk-toggleable__label {cursor: pointer;display: block;width: 100%;margin-bottom: 0;padding: 0.3em;box-sizing: border-box;text-align: center;}#sk-container-id-5 label.sk-toggleable__label-arrow:before {content: \"▸\";float: left;margin-right: 0.25em;color: #696969;}#sk-container-id-5 label.sk-toggleable__label-arrow:hover:before {color: black;}#sk-container-id-5 div.sk-estimator:hover label.sk-toggleable__label-arrow:before {color: black;}#sk-container-id-5 div.sk-toggleable__content {max-height: 0;max-width: 0;overflow: hidden;text-align: left;background-color: #f0f8ff;}#sk-container-id-5 div.sk-toggleable__content pre {margin: 0.2em;color: black;border-radius: 0.25em;background-color: #f0f8ff;}#sk-container-id-5 input.sk-toggleable__control:checked~div.sk-toggleable__content {max-height: 200px;max-width: 100%;overflow: auto;}#sk-container-id-5 input.sk-toggleable__control:checked~label.sk-toggleable__label-arrow:before {content: \"▾\";}#sk-container-id-5 div.sk-estimator input.sk-toggleable__control:checked~label.sk-toggleable__label {background-color: #d4ebff;}#sk-container-id-5 div.sk-label input.sk-toggleable__control:checked~label.sk-toggleable__label {background-color: #d4ebff;}#sk-container-id-5 input.sk-hidden--visually {border: 0;clip: rect(1px 1px 1px 1px);clip: rect(1px, 1px, 1px, 1px);height: 1px;margin: -1px;overflow: hidden;padding: 0;position: absolute;width: 1px;}#sk-container-id-5 div.sk-estimator {font-family: monospace;background-color: #f0f8ff;border: 1px dotted black;border-radius: 0.25em;box-sizing: border-box;margin-bottom: 0.5em;}#sk-container-id-5 div.sk-estimator:hover {background-color: #d4ebff;}#sk-container-id-5 div.sk-parallel-item::after {content: \"\";width: 100%;border-bottom: 1px solid gray;flex-grow: 1;}#sk-container-id-5 div.sk-label:hover label.sk-toggleable__label {background-color: #d4ebff;}#sk-container-id-5 div.sk-serial::before {content: \"\";position: absolute;border-left: 1px solid gray;box-sizing: border-box;top: 0;bottom: 0;left: 50%;z-index: 0;}#sk-container-id-5 div.sk-serial {display: flex;flex-direction: column;align-items: center;background-color: white;padding-right: 0.2em;padding-left: 0.2em;position: relative;}#sk-container-id-5 div.sk-item {position: relative;z-index: 1;}#sk-container-id-5 div.sk-parallel {display: flex;align-items: stretch;justify-content: center;background-color: white;position: relative;}#sk-container-id-5 div.sk-item::before, #sk-container-id-5 div.sk-parallel-item::before {content: \"\";position: absolute;border-left: 1px solid gray;box-sizing: border-box;top: 0;bottom: 0;left: 50%;z-index: -1;}#sk-container-id-5 div.sk-parallel-item {display: flex;flex-direction: column;z-index: 1;position: relative;background-color: white;}#sk-container-id-5 div.sk-parallel-item:first-child::after {align-self: flex-end;width: 50%;}#sk-container-id-5 div.sk-parallel-item:last-child::after {align-self: flex-start;width: 50%;}#sk-container-id-5 div.sk-parallel-item:only-child::after {width: 0;}#sk-container-id-5 div.sk-dashed-wrapped {border: 1px dashed gray;margin: 0 0.4em 0.5em 0.4em;box-sizing: border-box;padding-bottom: 0.4em;background-color: white;}#sk-container-id-5 div.sk-label label {font-family: monospace;font-weight: bold;display: inline-block;line-height: 1.2em;}#sk-container-id-5 div.sk-label-container {text-align: center;}#sk-container-id-5 div.sk-container {/* jupyter's `normalize.less` sets `[hidden] { display: none; }` but bootstrap.min.css set `[hidden] { display: none !important; }` so we also need the `!important` here to be able to override the default hidden behavior on the sphinx rendered scikit-learn.org. See: https://github.com/scikit-learn/scikit-learn/issues/21755 */display: inline-block !important;position: relative;}#sk-container-id-5 div.sk-text-repr-fallback {display: none;}</style><div id=\"sk-container-id-5\" class=\"sk-top-container\"><div class=\"sk-text-repr-fallback\"><pre>SVC()</pre><b>In a Jupyter environment, please rerun this cell to show the HTML representation or trust the notebook. <br />On GitHub, the HTML representation is unable to render, please try loading this page with nbviewer.org.</b></div><div class=\"sk-container\" hidden><div class=\"sk-item\"><div class=\"sk-estimator sk-toggleable\"><input class=\"sk-toggleable__control sk-hidden--visually\" id=\"sk-estimator-id-5\" type=\"checkbox\" checked><label for=\"sk-estimator-id-5\" class=\"sk-toggleable__label sk-toggleable__label-arrow\">SVC</label><div class=\"sk-toggleable__content\"><pre>SVC()</pre></div></div></div></div></div>"
      ],
      "text/plain": [
       "SVC()"
      ]
     },
     "execution_count": 44,
     "metadata": {},
     "output_type": "execute_result"
    }
   ],
   "source": [
    "clf = svm.SVC()\n",
    "clf.fit(x_train_pca, y_train_pca)"
   ]
  },
  {
   "cell_type": "code",
   "execution_count": 45,
   "metadata": {},
   "outputs": [],
   "source": [
    "y_pred_pca = clf.predict(x_test_pca)"
   ]
  },
  {
   "cell_type": "code",
   "execution_count": 46,
   "metadata": {},
   "outputs": [
    {
     "name": "stdout",
     "output_type": "stream",
     "text": [
      "              precision    recall  f1-score   support\n",
      "\n",
      "           0    0.91624   0.98336   0.94861      5951\n",
      "           1    0.87500   0.99408   0.93075      1014\n",
      "           2    0.00000   0.00000   0.00000       574\n",
      "\n",
      "    accuracy                        0.90994      7539\n",
      "   macro avg    0.59708   0.65915   0.62645      7539\n",
      "weighted avg    0.84093   0.90994   0.87399      7539\n",
      "\n"
     ]
    },
    {
     "name": "stderr",
     "output_type": "stream",
     "text": [
      "/home/slo/.local/lib/python3.11/site-packages/sklearn/metrics/_classification.py:1344: UndefinedMetricWarning: Precision and F-score are ill-defined and being set to 0.0 in labels with no predicted samples. Use `zero_division` parameter to control this behavior.\n",
      "  _warn_prf(average, modifier, msg_start, len(result))\n",
      "/home/slo/.local/lib/python3.11/site-packages/sklearn/metrics/_classification.py:1344: UndefinedMetricWarning: Precision and F-score are ill-defined and being set to 0.0 in labels with no predicted samples. Use `zero_division` parameter to control this behavior.\n",
      "  _warn_prf(average, modifier, msg_start, len(result))\n",
      "/home/slo/.local/lib/python3.11/site-packages/sklearn/metrics/_classification.py:1344: UndefinedMetricWarning: Precision and F-score are ill-defined and being set to 0.0 in labels with no predicted samples. Use `zero_division` parameter to control this behavior.\n",
      "  _warn_prf(average, modifier, msg_start, len(result))\n"
     ]
    }
   ],
   "source": [
    "print(classification_report(y_test_pca, y_pred_pca, digits=5))"
   ]
  },
  {
   "cell_type": "code",
   "execution_count": 47,
   "metadata": {},
   "outputs": [
    {
     "name": "stdout",
     "output_type": "stream",
     "text": [
      "accuracy: 0.9099350046425255\n"
     ]
    }
   ],
   "source": [
    "print(\"accuracy:\",accuracy_score(y_test_pca, y_pred_pca)) "
   ]
  },
  {
   "attachments": {},
   "cell_type": "markdown",
   "metadata": {},
   "source": [
    "### XG Boost"
   ]
  },
  {
   "cell_type": "code",
   "execution_count": 48,
   "metadata": {},
   "outputs": [
    {
     "data": {
      "text/html": [
       "<style>#sk-container-id-6 {color: black;background-color: white;}#sk-container-id-6 pre{padding: 0;}#sk-container-id-6 div.sk-toggleable {background-color: white;}#sk-container-id-6 label.sk-toggleable__label {cursor: pointer;display: block;width: 100%;margin-bottom: 0;padding: 0.3em;box-sizing: border-box;text-align: center;}#sk-container-id-6 label.sk-toggleable__label-arrow:before {content: \"▸\";float: left;margin-right: 0.25em;color: #696969;}#sk-container-id-6 label.sk-toggleable__label-arrow:hover:before {color: black;}#sk-container-id-6 div.sk-estimator:hover label.sk-toggleable__label-arrow:before {color: black;}#sk-container-id-6 div.sk-toggleable__content {max-height: 0;max-width: 0;overflow: hidden;text-align: left;background-color: #f0f8ff;}#sk-container-id-6 div.sk-toggleable__content pre {margin: 0.2em;color: black;border-radius: 0.25em;background-color: #f0f8ff;}#sk-container-id-6 input.sk-toggleable__control:checked~div.sk-toggleable__content {max-height: 200px;max-width: 100%;overflow: auto;}#sk-container-id-6 input.sk-toggleable__control:checked~label.sk-toggleable__label-arrow:before {content: \"▾\";}#sk-container-id-6 div.sk-estimator input.sk-toggleable__control:checked~label.sk-toggleable__label {background-color: #d4ebff;}#sk-container-id-6 div.sk-label input.sk-toggleable__control:checked~label.sk-toggleable__label {background-color: #d4ebff;}#sk-container-id-6 input.sk-hidden--visually {border: 0;clip: rect(1px 1px 1px 1px);clip: rect(1px, 1px, 1px, 1px);height: 1px;margin: -1px;overflow: hidden;padding: 0;position: absolute;width: 1px;}#sk-container-id-6 div.sk-estimator {font-family: monospace;background-color: #f0f8ff;border: 1px dotted black;border-radius: 0.25em;box-sizing: border-box;margin-bottom: 0.5em;}#sk-container-id-6 div.sk-estimator:hover {background-color: #d4ebff;}#sk-container-id-6 div.sk-parallel-item::after {content: \"\";width: 100%;border-bottom: 1px solid gray;flex-grow: 1;}#sk-container-id-6 div.sk-label:hover label.sk-toggleable__label {background-color: #d4ebff;}#sk-container-id-6 div.sk-serial::before {content: \"\";position: absolute;border-left: 1px solid gray;box-sizing: border-box;top: 0;bottom: 0;left: 50%;z-index: 0;}#sk-container-id-6 div.sk-serial {display: flex;flex-direction: column;align-items: center;background-color: white;padding-right: 0.2em;padding-left: 0.2em;position: relative;}#sk-container-id-6 div.sk-item {position: relative;z-index: 1;}#sk-container-id-6 div.sk-parallel {display: flex;align-items: stretch;justify-content: center;background-color: white;position: relative;}#sk-container-id-6 div.sk-item::before, #sk-container-id-6 div.sk-parallel-item::before {content: \"\";position: absolute;border-left: 1px solid gray;box-sizing: border-box;top: 0;bottom: 0;left: 50%;z-index: -1;}#sk-container-id-6 div.sk-parallel-item {display: flex;flex-direction: column;z-index: 1;position: relative;background-color: white;}#sk-container-id-6 div.sk-parallel-item:first-child::after {align-self: flex-end;width: 50%;}#sk-container-id-6 div.sk-parallel-item:last-child::after {align-self: flex-start;width: 50%;}#sk-container-id-6 div.sk-parallel-item:only-child::after {width: 0;}#sk-container-id-6 div.sk-dashed-wrapped {border: 1px dashed gray;margin: 0 0.4em 0.5em 0.4em;box-sizing: border-box;padding-bottom: 0.4em;background-color: white;}#sk-container-id-6 div.sk-label label {font-family: monospace;font-weight: bold;display: inline-block;line-height: 1.2em;}#sk-container-id-6 div.sk-label-container {text-align: center;}#sk-container-id-6 div.sk-container {/* jupyter's `normalize.less` sets `[hidden] { display: none; }` but bootstrap.min.css set `[hidden] { display: none !important; }` so we also need the `!important` here to be able to override the default hidden behavior on the sphinx rendered scikit-learn.org. See: https://github.com/scikit-learn/scikit-learn/issues/21755 */display: inline-block !important;position: relative;}#sk-container-id-6 div.sk-text-repr-fallback {display: none;}</style><div id=\"sk-container-id-6\" class=\"sk-top-container\"><div class=\"sk-text-repr-fallback\"><pre>XGBClassifier(base_score=None, booster=None, callbacks=None,\n",
       "              colsample_bylevel=None, colsample_bynode=None,\n",
       "              colsample_bytree=None, early_stopping_rounds=None,\n",
       "              enable_categorical=False, eval_metric=None, feature_types=None,\n",
       "              gamma=None, gpu_id=None, grow_policy=None, importance_type=None,\n",
       "              interaction_constraints=None, learning_rate=None, max_bin=None,\n",
       "              max_cat_threshold=None, max_cat_to_onehot=None,\n",
       "              max_delta_step=None, max_depth=None, max_leaves=None,\n",
       "              min_child_weight=None, missing=nan, monotone_constraints=None,\n",
       "              n_estimators=100, n_jobs=None, num_parallel_tree=None,\n",
       "              objective=&#x27;multi:softprob&#x27;, predictor=None, ...)</pre><b>In a Jupyter environment, please rerun this cell to show the HTML representation or trust the notebook. <br />On GitHub, the HTML representation is unable to render, please try loading this page with nbviewer.org.</b></div><div class=\"sk-container\" hidden><div class=\"sk-item\"><div class=\"sk-estimator sk-toggleable\"><input class=\"sk-toggleable__control sk-hidden--visually\" id=\"sk-estimator-id-6\" type=\"checkbox\" checked><label for=\"sk-estimator-id-6\" class=\"sk-toggleable__label sk-toggleable__label-arrow\">XGBClassifier</label><div class=\"sk-toggleable__content\"><pre>XGBClassifier(base_score=None, booster=None, callbacks=None,\n",
       "              colsample_bylevel=None, colsample_bynode=None,\n",
       "              colsample_bytree=None, early_stopping_rounds=None,\n",
       "              enable_categorical=False, eval_metric=None, feature_types=None,\n",
       "              gamma=None, gpu_id=None, grow_policy=None, importance_type=None,\n",
       "              interaction_constraints=None, learning_rate=None, max_bin=None,\n",
       "              max_cat_threshold=None, max_cat_to_onehot=None,\n",
       "              max_delta_step=None, max_depth=None, max_leaves=None,\n",
       "              min_child_weight=None, missing=nan, monotone_constraints=None,\n",
       "              n_estimators=100, n_jobs=None, num_parallel_tree=None,\n",
       "              objective=&#x27;multi:softprob&#x27;, predictor=None, ...)</pre></div></div></div></div></div>"
      ],
      "text/plain": [
       "XGBClassifier(base_score=None, booster=None, callbacks=None,\n",
       "              colsample_bylevel=None, colsample_bynode=None,\n",
       "              colsample_bytree=None, early_stopping_rounds=None,\n",
       "              enable_categorical=False, eval_metric=None, feature_types=None,\n",
       "              gamma=None, gpu_id=None, grow_policy=None, importance_type=None,\n",
       "              interaction_constraints=None, learning_rate=None, max_bin=None,\n",
       "              max_cat_threshold=None, max_cat_to_onehot=None,\n",
       "              max_delta_step=None, max_depth=None, max_leaves=None,\n",
       "              min_child_weight=None, missing=nan, monotone_constraints=None,\n",
       "              n_estimators=100, n_jobs=None, num_parallel_tree=None,\n",
       "              objective='multi:softprob', predictor=None, ...)"
      ]
     },
     "execution_count": 48,
     "metadata": {},
     "output_type": "execute_result"
    }
   ],
   "source": [
    "clf = XGBClassifier()\n",
    "clf.fit(x_train_pca, y_train_pca)"
   ]
  },
  {
   "cell_type": "code",
   "execution_count": 49,
   "metadata": {},
   "outputs": [
    {
     "name": "stdout",
     "output_type": "stream",
     "text": [
      "              precision    recall  f1-score   support\n",
      "\n",
      "           0    0.99047   0.99513   0.99279      5951\n",
      "           1    0.97754   0.98718   0.98234      1014\n",
      "           2    0.96828   0.90418   0.93514       574\n",
      "\n",
      "    accuracy                        0.98713      7539\n",
      "   macro avg    0.97876   0.96216   0.97009      7539\n",
      "weighted avg    0.98704   0.98713   0.98700      7539\n",
      "\n"
     ]
    }
   ],
   "source": [
    "y_pred_pca = clf.predict(x_test_pca)\n",
    "print(classification_report(y_test_pca, y_pred_pca, digits=5))"
   ]
  },
  {
   "cell_type": "code",
   "execution_count": 50,
   "metadata": {},
   "outputs": [
    {
     "name": "stdout",
     "output_type": "stream",
     "text": [
      "accuracy: 0.9871335720917893\n"
     ]
    }
   ],
   "source": [
    "print(\"accuracy:\",accuracy_score(y_test_pca, y_pred_pca)) "
   ]
  },
  {
   "attachments": {},
   "cell_type": "markdown",
   "metadata": {},
   "source": [
    "## Kendalltau Selection"
   ]
  },
  {
   "cell_type": "code",
   "execution_count": 51,
   "metadata": {},
   "outputs": [],
   "source": [
    "correlations = []\n",
    "k = 5\n",
    "\n",
    "for column in X.columns:\n",
    "    correlation, p_value = kendalltau(X[column], Y)\n",
    "    correlations.append((abs(correlation), column))\n",
    "\n",
    "correlations.sort(reverse=True)\n",
    "\n",
    "selected_features = [feature_index for correlation, feature_index in correlations[:k]]\n",
    "\n",
    "X_kendalltau = X[selected_features]\n",
    "\n",
    "x_train_kendalltau, x_test_kendalltau, y_train_kendalltau, y_test_kendalltau = train_test_split(X_kendalltau, Y, test_size=0.2, random_state=42)\n"
   ]
  },
  {
   "cell_type": "code",
   "execution_count": 52,
   "metadata": {},
   "outputs": [
    {
     "data": {
      "text/html": [
       "<div>\n",
       "<style scoped>\n",
       "    .dataframe tbody tr th:only-of-type {\n",
       "        vertical-align: middle;\n",
       "    }\n",
       "\n",
       "    .dataframe tbody tr th {\n",
       "        vertical-align: top;\n",
       "    }\n",
       "\n",
       "    .dataframe thead th {\n",
       "        text-align: right;\n",
       "    }\n",
       "</style>\n",
       "<table border=\"1\" class=\"dataframe\">\n",
       "  <thead>\n",
       "    <tr style=\"text-align: right;\">\n",
       "      <th></th>\n",
       "      <th>gmt</th>\n",
       "      <th>country</th>\n",
       "      <th>ip</th>\n",
       "      <th>referer</th>\n",
       "      <th>size</th>\n",
       "    </tr>\n",
       "  </thead>\n",
       "  <tbody>\n",
       "    <tr>\n",
       "      <th>0</th>\n",
       "      <td>0</td>\n",
       "      <td>0</td>\n",
       "      <td>0</td>\n",
       "      <td>0</td>\n",
       "      <td>0</td>\n",
       "    </tr>\n",
       "    <tr>\n",
       "      <th>1</th>\n",
       "      <td>0</td>\n",
       "      <td>0</td>\n",
       "      <td>0</td>\n",
       "      <td>1</td>\n",
       "      <td>1</td>\n",
       "    </tr>\n",
       "    <tr>\n",
       "      <th>2</th>\n",
       "      <td>0</td>\n",
       "      <td>0</td>\n",
       "      <td>0</td>\n",
       "      <td>0</td>\n",
       "      <td>2</td>\n",
       "    </tr>\n",
       "    <tr>\n",
       "      <th>3</th>\n",
       "      <td>0</td>\n",
       "      <td>0</td>\n",
       "      <td>0</td>\n",
       "      <td>2</td>\n",
       "      <td>3</td>\n",
       "    </tr>\n",
       "    <tr>\n",
       "      <th>4</th>\n",
       "      <td>0</td>\n",
       "      <td>0</td>\n",
       "      <td>0</td>\n",
       "      <td>2</td>\n",
       "      <td>4</td>\n",
       "    </tr>\n",
       "  </tbody>\n",
       "</table>\n",
       "</div>"
      ],
      "text/plain": [
       "   gmt  country  ip  referer  size\n",
       "0    0        0   0        0     0\n",
       "1    0        0   0        1     1\n",
       "2    0        0   0        0     2\n",
       "3    0        0   0        2     3\n",
       "4    0        0   0        2     4"
      ]
     },
     "execution_count": 52,
     "metadata": {},
     "output_type": "execute_result"
    }
   ],
   "source": [
    "X_kendalltau.head()"
   ]
  },
  {
   "attachments": {},
   "cell_type": "markdown",
   "metadata": {},
   "source": [
    "### Random Forest"
   ]
  },
  {
   "cell_type": "code",
   "execution_count": 53,
   "metadata": {},
   "outputs": [
    {
     "name": "stderr",
     "output_type": "stream",
     "text": [
      "/tmp/ipykernel_5553/1030018975.py:2: DataConversionWarning: A column-vector y was passed when a 1d array was expected. Please change the shape of y to (n_samples,), for example using ravel().\n",
      "  clf.fit(x_train_kendalltau, y_train_kendalltau)\n"
     ]
    },
    {
     "name": "stdout",
     "output_type": "stream",
     "text": [
      "              precision    recall  f1-score   support\n",
      "\n",
      "           0    0.99933   0.99899   0.99916      5951\n",
      "           1    0.97992   0.96252   0.97114      1014\n",
      "           2    0.93939   0.97213   0.95548       574\n",
      "\n",
      "    accuracy                        0.99204      7539\n",
      "   macro avg    0.97288   0.97788   0.97526      7539\n",
      "weighted avg    0.99215   0.99204   0.99207      7539\n",
      "\n",
      "accuracy: 0.9920413847990449\n"
     ]
    }
   ],
   "source": [
    "clf = RandomForestClassifier()\n",
    "clf.fit(x_train_kendalltau, y_train_kendalltau)\n",
    "y_pred_kendalltau = clf.predict(x_test_kendalltau)\n",
    "print(classification_report(y_test_kendalltau, y_pred_kendalltau, digits=5))\n",
    "print(\"accuracy:\",accuracy_score(y_test_kendalltau, y_pred_kendalltau)) "
   ]
  },
  {
   "attachments": {},
   "cell_type": "markdown",
   "metadata": {},
   "source": [
    "### SVM"
   ]
  },
  {
   "cell_type": "code",
   "execution_count": 54,
   "metadata": {},
   "outputs": [
    {
     "name": "stderr",
     "output_type": "stream",
     "text": [
      "/home/slo/.local/lib/python3.11/site-packages/sklearn/utils/validation.py:1143: DataConversionWarning: A column-vector y was passed when a 1d array was expected. Please change the shape of y to (n_samples, ), for example using ravel().\n",
      "  y = column_or_1d(y, warn=True)\n"
     ]
    },
    {
     "name": "stdout",
     "output_type": "stream",
     "text": [
      "              precision    recall  f1-score   support\n",
      "\n",
      "           0    0.78975   0.99983   0.88246      5951\n",
      "           1    0.00000   0.00000   0.00000      1014\n",
      "           2    0.80000   0.00697   0.01382       574\n",
      "\n",
      "    accuracy                        0.78976      7539\n",
      "   macro avg    0.52992   0.33560   0.29876      7539\n",
      "weighted avg    0.68431   0.78976   0.69763      7539\n",
      "\n",
      "accuracy: 0.7897599151081045\n"
     ]
    },
    {
     "name": "stderr",
     "output_type": "stream",
     "text": [
      "/home/slo/.local/lib/python3.11/site-packages/sklearn/metrics/_classification.py:1344: UndefinedMetricWarning: Precision and F-score are ill-defined and being set to 0.0 in labels with no predicted samples. Use `zero_division` parameter to control this behavior.\n",
      "  _warn_prf(average, modifier, msg_start, len(result))\n",
      "/home/slo/.local/lib/python3.11/site-packages/sklearn/metrics/_classification.py:1344: UndefinedMetricWarning: Precision and F-score are ill-defined and being set to 0.0 in labels with no predicted samples. Use `zero_division` parameter to control this behavior.\n",
      "  _warn_prf(average, modifier, msg_start, len(result))\n",
      "/home/slo/.local/lib/python3.11/site-packages/sklearn/metrics/_classification.py:1344: UndefinedMetricWarning: Precision and F-score are ill-defined and being set to 0.0 in labels with no predicted samples. Use `zero_division` parameter to control this behavior.\n",
      "  _warn_prf(average, modifier, msg_start, len(result))\n"
     ]
    }
   ],
   "source": [
    "clf = svm.SVC()\n",
    "clf.fit(x_train_kendalltau, y_train_kendalltau)\n",
    "y_pred_kendalltau = clf.predict(x_test_kendalltau)\n",
    "print(classification_report(y_test_kendalltau, y_pred_kendalltau, digits=5))\n",
    "print(\"accuracy:\",accuracy_score(y_test_kendalltau, y_pred_kendalltau)) "
   ]
  },
  {
   "attachments": {},
   "cell_type": "markdown",
   "metadata": {},
   "source": [
    "### XGBoost"
   ]
  },
  {
   "cell_type": "code",
   "execution_count": 55,
   "metadata": {},
   "outputs": [
    {
     "name": "stdout",
     "output_type": "stream",
     "text": [
      "              precision    recall  f1-score   support\n",
      "\n",
      "           0    1.00000   0.99950   0.99975      5951\n",
      "           1    0.98592   0.96647   0.97610      1014\n",
      "           2    0.93970   0.97735   0.95816       574\n",
      "\n",
      "    accuracy                        0.99337      7539\n",
      "   macro avg    0.97520   0.98111   0.97800      7539\n",
      "weighted avg    0.99351   0.99337   0.99340      7539\n",
      "\n",
      "accuracy: 0.9933678206658708\n"
     ]
    }
   ],
   "source": [
    "clf = XGBClassifier()\n",
    "clf.fit(x_train_kendalltau, y_train_kendalltau)\n",
    "y_pred_kendalltau = clf.predict(x_test_kendalltau)\n",
    "print(classification_report(y_test_kendalltau, y_pred_kendalltau, digits=5))\n",
    "print(\"accuracy:\",accuracy_score(y_test_kendalltau, y_pred_kendalltau)) "
   ]
  },
  {
   "attachments": {},
   "cell_type": "markdown",
   "metadata": {},
   "source": [
    "## ANOVA"
   ]
  },
  {
   "cell_type": "code",
   "execution_count": 56,
   "metadata": {},
   "outputs": [],
   "source": [
    "df = df_vectorized"
   ]
  },
  {
   "cell_type": "code",
   "execution_count": 57,
   "metadata": {},
   "outputs": [
    {
     "data": {
      "text/html": [
       "<div>\n",
       "<style scoped>\n",
       "    .dataframe tbody tr th:only-of-type {\n",
       "        vertical-align: middle;\n",
       "    }\n",
       "\n",
       "    .dataframe tbody tr th {\n",
       "        vertical-align: top;\n",
       "    }\n",
       "\n",
       "    .dataframe thead th {\n",
       "        text-align: right;\n",
       "    }\n",
       "</style>\n",
       "<table border=\"1\" class=\"dataframe\">\n",
       "  <thead>\n",
       "    <tr style=\"text-align: right;\">\n",
       "      <th></th>\n",
       "      <th>ip</th>\n",
       "      <th>datetime</th>\n",
       "      <th>gmt</th>\n",
       "      <th>request</th>\n",
       "      <th>content</th>\n",
       "      <th>status</th>\n",
       "      <th>size</th>\n",
       "      <th>referer</th>\n",
       "      <th>browser</th>\n",
       "      <th>country</th>\n",
       "      <th>detected</th>\n",
       "    </tr>\n",
       "  </thead>\n",
       "  <tbody>\n",
       "    <tr>\n",
       "      <th>0</th>\n",
       "      <td>0</td>\n",
       "      <td>0</td>\n",
       "      <td>0</td>\n",
       "      <td>0</td>\n",
       "      <td>0</td>\n",
       "      <td>0</td>\n",
       "      <td>0</td>\n",
       "      <td>0</td>\n",
       "      <td>0</td>\n",
       "      <td>0</td>\n",
       "      <td>1</td>\n",
       "    </tr>\n",
       "    <tr>\n",
       "      <th>1</th>\n",
       "      <td>0</td>\n",
       "      <td>1</td>\n",
       "      <td>0</td>\n",
       "      <td>0</td>\n",
       "      <td>1</td>\n",
       "      <td>0</td>\n",
       "      <td>1</td>\n",
       "      <td>1</td>\n",
       "      <td>0</td>\n",
       "      <td>0</td>\n",
       "      <td>1</td>\n",
       "    </tr>\n",
       "    <tr>\n",
       "      <th>2</th>\n",
       "      <td>0</td>\n",
       "      <td>2</td>\n",
       "      <td>0</td>\n",
       "      <td>1</td>\n",
       "      <td>1</td>\n",
       "      <td>0</td>\n",
       "      <td>2</td>\n",
       "      <td>0</td>\n",
       "      <td>0</td>\n",
       "      <td>0</td>\n",
       "      <td>1</td>\n",
       "    </tr>\n",
       "    <tr>\n",
       "      <th>3</th>\n",
       "      <td>0</td>\n",
       "      <td>3</td>\n",
       "      <td>0</td>\n",
       "      <td>0</td>\n",
       "      <td>2</td>\n",
       "      <td>1</td>\n",
       "      <td>3</td>\n",
       "      <td>2</td>\n",
       "      <td>0</td>\n",
       "      <td>0</td>\n",
       "      <td>1</td>\n",
       "    </tr>\n",
       "    <tr>\n",
       "      <th>4</th>\n",
       "      <td>0</td>\n",
       "      <td>4</td>\n",
       "      <td>0</td>\n",
       "      <td>0</td>\n",
       "      <td>3</td>\n",
       "      <td>0</td>\n",
       "      <td>4</td>\n",
       "      <td>2</td>\n",
       "      <td>0</td>\n",
       "      <td>0</td>\n",
       "      <td>1</td>\n",
       "    </tr>\n",
       "    <tr>\n",
       "      <th>...</th>\n",
       "      <td>...</td>\n",
       "      <td>...</td>\n",
       "      <td>...</td>\n",
       "      <td>...</td>\n",
       "      <td>...</td>\n",
       "      <td>...</td>\n",
       "      <td>...</td>\n",
       "      <td>...</td>\n",
       "      <td>...</td>\n",
       "      <td>...</td>\n",
       "      <td>...</td>\n",
       "    </tr>\n",
       "    <tr>\n",
       "      <th>37688</th>\n",
       "      <td>651</td>\n",
       "      <td>17761</td>\n",
       "      <td>0</td>\n",
       "      <td>0</td>\n",
       "      <td>1789</td>\n",
       "      <td>0</td>\n",
       "      <td>2870</td>\n",
       "      <td>333</td>\n",
       "      <td>69</td>\n",
       "      <td>0</td>\n",
       "      <td>0</td>\n",
       "    </tr>\n",
       "    <tr>\n",
       "      <th>37689</th>\n",
       "      <td>651</td>\n",
       "      <td>17762</td>\n",
       "      <td>0</td>\n",
       "      <td>0</td>\n",
       "      <td>2401</td>\n",
       "      <td>0</td>\n",
       "      <td>7015</td>\n",
       "      <td>333</td>\n",
       "      <td>69</td>\n",
       "      <td>0</td>\n",
       "      <td>0</td>\n",
       "    </tr>\n",
       "    <tr>\n",
       "      <th>37690</th>\n",
       "      <td>651</td>\n",
       "      <td>17763</td>\n",
       "      <td>0</td>\n",
       "      <td>0</td>\n",
       "      <td>2478</td>\n",
       "      <td>0</td>\n",
       "      <td>3933</td>\n",
       "      <td>333</td>\n",
       "      <td>69</td>\n",
       "      <td>0</td>\n",
       "      <td>0</td>\n",
       "    </tr>\n",
       "    <tr>\n",
       "      <th>37691</th>\n",
       "      <td>651</td>\n",
       "      <td>17764</td>\n",
       "      <td>0</td>\n",
       "      <td>0</td>\n",
       "      <td>2483</td>\n",
       "      <td>0</td>\n",
       "      <td>3937</td>\n",
       "      <td>333</td>\n",
       "      <td>69</td>\n",
       "      <td>0</td>\n",
       "      <td>0</td>\n",
       "    </tr>\n",
       "    <tr>\n",
       "      <th>37692</th>\n",
       "      <td>651</td>\n",
       "      <td>17765</td>\n",
       "      <td>0</td>\n",
       "      <td>0</td>\n",
       "      <td>1785</td>\n",
       "      <td>0</td>\n",
       "      <td>7017</td>\n",
       "      <td>333</td>\n",
       "      <td>69</td>\n",
       "      <td>0</td>\n",
       "      <td>0</td>\n",
       "    </tr>\n",
       "  </tbody>\n",
       "</table>\n",
       "<p>37693 rows × 11 columns</p>\n",
       "</div>"
      ],
      "text/plain": [
       "        ip  datetime  gmt  request  content  status  size  referer  browser   \n",
       "0        0         0    0        0        0       0     0        0        0  \\\n",
       "1        0         1    0        0        1       0     1        1        0   \n",
       "2        0         2    0        1        1       0     2        0        0   \n",
       "3        0         3    0        0        2       1     3        2        0   \n",
       "4        0         4    0        0        3       0     4        2        0   \n",
       "...    ...       ...  ...      ...      ...     ...   ...      ...      ...   \n",
       "37688  651     17761    0        0     1789       0  2870      333       69   \n",
       "37689  651     17762    0        0     2401       0  7015      333       69   \n",
       "37690  651     17763    0        0     2478       0  3933      333       69   \n",
       "37691  651     17764    0        0     2483       0  3937      333       69   \n",
       "37692  651     17765    0        0     1785       0  7017      333       69   \n",
       "\n",
       "       country  detected  \n",
       "0            0         1  \n",
       "1            0         1  \n",
       "2            0         1  \n",
       "3            0         1  \n",
       "4            0         1  \n",
       "...        ...       ...  \n",
       "37688        0         0  \n",
       "37689        0         0  \n",
       "37690        0         0  \n",
       "37691        0         0  \n",
       "37692        0         0  \n",
       "\n",
       "[37693 rows x 11 columns]"
      ]
     },
     "execution_count": 57,
     "metadata": {},
     "output_type": "execute_result"
    }
   ],
   "source": [
    "df"
   ]
  },
  {
   "cell_type": "code",
   "execution_count": 58,
   "metadata": {},
   "outputs": [
    {
     "name": "stdout",
     "output_type": "stream",
     "text": [
      "Selected features:\n",
      "Feature1\n",
      "Feature2\n",
      "Feature3\n",
      "Feature4\n",
      "Feature5\n",
      "Feature6\n",
      "Feature7\n",
      "Feature8\n",
      "Feature9\n",
      "Feature10\n"
     ]
    }
   ],
   "source": [
    "import numpy as np\n",
    "from scipy import stats\n",
    "\n",
    "target = df[\"detected\"]\n",
    "features = df.copy()\n",
    "features.drop([\"detected\"], axis=1, inplace=True)\n",
    "\n",
    "# Perform ANOVA for each feature\n",
    "f_values = []\n",
    "p_values = []\n",
    "\n",
    "for column in features.columns:\n",
    "    f_val, p_val = stats.f_oneway(features[column], target)\n",
    "    f_values.append(f_val)\n",
    "    p_values.append(p_val)\n",
    "    \n",
    "# Set significance threshold (alpha value)\n",
    "alpha = 0.05\n",
    "\n",
    "# Select features based on p-values\n",
    "selected_features = [f\"Feature{i+1}\" for i, p_val in enumerate(p_values) if p_val < alpha]\n",
    "\n",
    "# Print selected features\n",
    "print(\"Selected features:\")\n",
    "for feature in selected_features:\n",
    "    print(feature)"
   ]
  },
  {
   "cell_type": "code",
   "execution_count": 59,
   "metadata": {},
   "outputs": [
    {
     "data": {
      "text/plain": [
       "[0.0, 0.0, 0.0, 0.0, 0.0, 0.0, 0.0, 0.0, 0.0, 8.892653007831478e-108]"
      ]
     },
     "execution_count": 59,
     "metadata": {},
     "output_type": "execute_result"
    }
   ],
   "source": [
    "p_values"
   ]
  },
  {
   "attachments": {},
   "cell_type": "markdown",
   "metadata": {},
   "source": [
    "Problemes sur les p values qui empechent de realiser la feature selection"
   ]
  },
  {
   "attachments": {},
   "cell_type": "markdown",
   "metadata": {},
   "source": [
    "## KBests"
   ]
  },
  {
   "cell_type": "code",
   "execution_count": 60,
   "metadata": {},
   "outputs": [
    {
     "name": "stdout",
     "output_type": "stream",
     "text": [
      "(37693, 5)\n"
     ]
    },
    {
     "name": "stderr",
     "output_type": "stream",
     "text": [
      "/home/slo/.local/lib/python3.11/site-packages/sklearn/utils/validation.py:1143: DataConversionWarning: A column-vector y was passed when a 1d array was expected. Please change the shape of y to (n_samples, ), for example using ravel().\n",
      "  y = column_or_1d(y, warn=True)\n",
      "/home/slo/.local/lib/python3.11/site-packages/sklearn/feature_selection/_univariate_selection.py:112: UserWarning: Features [2] are constant.\n",
      "  warnings.warn(\"Features %s are constant.\" % constant_features_idx, UserWarning)\n",
      "/home/slo/.local/lib/python3.11/site-packages/sklearn/feature_selection/_univariate_selection.py:113: RuntimeWarning: invalid value encountered in divide\n",
      "  f = msb / msw\n"
     ]
    }
   ],
   "source": [
    "from sklearn.feature_selection import SelectKBest, f_classif\n",
    "\n",
    "k = 5\n",
    "selector = SelectKBest(score_func=f_classif, k=k)\n",
    "X_kbests = selector.fit_transform(X, Y)\n",
    "print(X_kbests.shape)\n",
    "x_train_kbests, x_test_kbests, y_train_kbests, y_test_kbests = train_test_split(X_kbests, Y, test_size=0.2, random_state=42)"
   ]
  },
  {
   "cell_type": "code",
   "execution_count": 61,
   "metadata": {},
   "outputs": [
    {
     "data": {
      "text/plain": [
       "array([[13994,  9031,   987,    73,     0],\n",
       "       [ 3152,  1056,    30,    92,     0],\n",
       "       [15938,  9866,  1257,   196,     0],\n",
       "       ...,\n",
       "       [ 5353,     6,   232,    65,     0],\n",
       "       [  432,   255,    30,    18,     0],\n",
       "       [ 7632,     6,    30,    89,     0]])"
      ]
     },
     "execution_count": 61,
     "metadata": {},
     "output_type": "execute_result"
    }
   ],
   "source": [
    "x_train_kbests"
   ]
  },
  {
   "attachments": {},
   "cell_type": "markdown",
   "metadata": {},
   "source": [
    "### Random Forest"
   ]
  },
  {
   "cell_type": "code",
   "execution_count": 62,
   "metadata": {},
   "outputs": [
    {
     "name": "stderr",
     "output_type": "stream",
     "text": [
      "/tmp/ipykernel_5553/703813511.py:2: DataConversionWarning: A column-vector y was passed when a 1d array was expected. Please change the shape of y to (n_samples,), for example using ravel().\n",
      "  clf.fit(x_train_kbests, y_train_kbests)\n"
     ]
    },
    {
     "name": "stdout",
     "output_type": "stream",
     "text": [
      "              precision    recall  f1-score   support\n",
      "\n",
      "           0    0.99933   0.99866   0.99899      5951\n",
      "           1    0.99408   0.99408   0.99408      1014\n",
      "           2    0.99308   1.00000   0.99653       574\n",
      "\n",
      "    accuracy                        0.99814      7539\n",
      "   macro avg    0.99550   0.99758   0.99653      7539\n",
      "weighted avg    0.99815   0.99814   0.99814      7539\n",
      "\n",
      "accuracy: 0.9981429897864438\n"
     ]
    }
   ],
   "source": [
    "clf = RandomForestClassifier()\n",
    "clf.fit(x_train_kbests, y_train_kbests)\n",
    "y_pred_kbests = clf.predict(x_test_kbests)\n",
    "print(classification_report(y_test_kbests, y_pred_kbests, digits=5))\n",
    "print(\"accuracy:\",accuracy_score(y_test_kbests, y_pred_kbests))"
   ]
  },
  {
   "attachments": {},
   "cell_type": "markdown",
   "metadata": {},
   "source": [
    "### SVM"
   ]
  },
  {
   "cell_type": "code",
   "execution_count": 63,
   "metadata": {},
   "outputs": [
    {
     "name": "stderr",
     "output_type": "stream",
     "text": [
      "/home/slo/.local/lib/python3.11/site-packages/sklearn/utils/validation.py:1143: DataConversionWarning: A column-vector y was passed when a 1d array was expected. Please change the shape of y to (n_samples, ), for example using ravel().\n",
      "  y = column_or_1d(y, warn=True)\n"
     ]
    },
    {
     "name": "stdout",
     "output_type": "stream",
     "text": [
      "              precision    recall  f1-score   support\n",
      "\n",
      "           0    0.90101   0.97278   0.93552      5951\n",
      "           1    0.81957   0.90039   0.85808      1014\n",
      "           2    0.00000   0.00000   0.00000       574\n",
      "\n",
      "    accuracy                        0.88898      7539\n",
      "   macro avg    0.57353   0.62439   0.59787      7539\n",
      "weighted avg    0.82146   0.88898   0.85388      7539\n",
      "\n",
      "accuracy: 0.8889773179466772\n"
     ]
    },
    {
     "name": "stderr",
     "output_type": "stream",
     "text": [
      "/home/slo/.local/lib/python3.11/site-packages/sklearn/metrics/_classification.py:1344: UndefinedMetricWarning: Precision and F-score are ill-defined and being set to 0.0 in labels with no predicted samples. Use `zero_division` parameter to control this behavior.\n",
      "  _warn_prf(average, modifier, msg_start, len(result))\n",
      "/home/slo/.local/lib/python3.11/site-packages/sklearn/metrics/_classification.py:1344: UndefinedMetricWarning: Precision and F-score are ill-defined and being set to 0.0 in labels with no predicted samples. Use `zero_division` parameter to control this behavior.\n",
      "  _warn_prf(average, modifier, msg_start, len(result))\n",
      "/home/slo/.local/lib/python3.11/site-packages/sklearn/metrics/_classification.py:1344: UndefinedMetricWarning: Precision and F-score are ill-defined and being set to 0.0 in labels with no predicted samples. Use `zero_division` parameter to control this behavior.\n",
      "  _warn_prf(average, modifier, msg_start, len(result))\n"
     ]
    }
   ],
   "source": [
    "clf = svm.SVC()\n",
    "clf.fit(x_train_kbests, y_train_kbests)\n",
    "y_pred_kbests = clf.predict(x_test_kbests)\n",
    "print(classification_report(y_test_kbests, y_pred_kbests, digits=5))\n",
    "print(\"accuracy:\",accuracy_score(y_test_kbests, y_pred_kbests))"
   ]
  },
  {
   "attachments": {},
   "cell_type": "markdown",
   "metadata": {},
   "source": [
    "### XGBoost"
   ]
  },
  {
   "cell_type": "code",
   "execution_count": 64,
   "metadata": {},
   "outputs": [
    {
     "name": "stdout",
     "output_type": "stream",
     "text": [
      "              precision    recall  f1-score   support\n",
      "\n",
      "           0    0.99933   0.99882   0.99908      5951\n",
      "           1    0.99507   0.99507   0.99507      1014\n",
      "           2    0.99480   1.00000   0.99739       574\n",
      "\n",
      "    accuracy                        0.99841      7539\n",
      "   macro avg    0.99640   0.99796   0.99718      7539\n",
      "weighted avg    0.99841   0.99841   0.99841      7539\n",
      "\n",
      "accuracy: 0.9984082769598089\n"
     ]
    }
   ],
   "source": [
    "clf = XGBClassifier()\n",
    "clf.fit(x_train_kbests, y_train_kbests)\n",
    "y_pred_kbests = clf.predict(x_test_kbests)\n",
    "print(classification_report(y_test_kbests, y_pred_kbests, digits=5))\n",
    "print(\"accuracy:\",accuracy_score(y_test_kbests, y_pred_kbests))"
   ]
  }
 ],
 "metadata": {
  "kernelspec": {
   "display_name": "Python 3",
   "language": "python",
   "name": "python3"
  },
  "language_info": {
   "codemirror_mode": {
    "name": "ipython",
    "version": 3
   },
   "file_extension": ".py",
   "mimetype": "text/x-python",
   "name": "python",
   "nbconvert_exporter": "python",
   "pygments_lexer": "ipython3",
   "version": "3.11.2"
  },
  "orig_nbformat": 4
 },
 "nbformat": 4,
 "nbformat_minor": 2
}
